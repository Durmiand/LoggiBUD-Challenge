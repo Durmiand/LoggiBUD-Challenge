{
  "nbformat": 4,
  "nbformat_minor": 0,
  "metadata": {
    "colab": {
      "name": "Aula 3: Introdução ao VRP  - Soluções ",
      "provenance": [],
      "collapsed_sections": [],
      "toc_visible": true,
      "include_colab_link": true
    },
    "kernelspec": {
      "name": "python3",
      "display_name": "Python 3"
    },
    "language_info": {
      "name": "python"
    }
  },
  "cells": [
    {
      "cell_type": "markdown",
      "metadata": {
        "id": "view-in-github",
        "colab_type": "text"
      },
      "source": [
        "<a href=\"https://colab.research.google.com/github/Durmiand/LoggiBUD-Challenge/blob/main/Aula_3_Introdu%C3%A7%C3%A3o_ao_VRP_Solu%C3%A7%C3%B5es.ipynb\" target=\"_parent\"><img src=\"https://colab.research.google.com/assets/colab-badge.svg\" alt=\"Open In Colab\"/></a>"
      ]
    },
    {
      "cell_type": "markdown",
      "metadata": {
        "id": "m-zcxKgVSYsN"
      },
      "source": [
        "---\n",
        "\n",
        "# Atenção!\n",
        "\n",
        "Lembre-se de clonar este notebook antes de tentar editar as células de código. \n",
        "\n",
        "Para isso, basta seguir os passos:\n",
        "\n",
        "File -> Save a copy in Drive\n",
        "\n",
        "\n",
        "\n",
        "---"
      ]
    },
    {
      "cell_type": "code",
      "metadata": {
        "id": "4x53k5h883Qt"
      },
      "source": [
        "!pip install ortools==9.0.9048"
      ],
      "execution_count": null,
      "outputs": []
    },
    {
      "cell_type": "markdown",
      "metadata": {
        "id": "B7Vw00oh85H3"
      },
      "source": [
        "# Exercício 1\n",
        "\n"
      ]
    },
    {
      "cell_type": "code",
      "metadata": {
        "id": "8Th3cXlM9L9g"
      },
      "source": [
        "from ortools.constraint_solver import pywrapcp\n",
        "\n",
        "\n",
        "def solve_mtsp_ortools(distance_matrix, num_vehicles=1):\n",
        "    n = distance_matrix.shape[0]  # número de nós do problema    \n",
        "    depot_node = 0  # número do nó que representa o ponto de origem\n",
        "    manager = pywrapcp.RoutingIndexManager(n, num_vehicles, depot_node)\n",
        "    routing = pywrapcp.RoutingModel(manager)\n",
        "    \n",
        "    def distance_callback(i, j):\n",
        "        # `i` e `j` são índices internos do OR-Tools. Precisamos primeiro \n",
        "        # convertê-los em nós do nosso problema\n",
        "        ni = manager.IndexToNode(i)\n",
        "        nj = manager.IndexToNode(j)\n",
        "        return distance_matrix[ni, nj]\n",
        "\n",
        "    transit_callback_index = routing.RegisterTransitCallback(distance_callback)\n",
        "    routing.SetArcCostEvaluatorOfAllVehicles(transit_callback_index)\n",
        "\n",
        "    # Resolve o problema com métodos default\n",
        "    search_parameters = pywrapcp.DefaultRoutingSearchParameters()\n",
        "    solution = routing.SolveWithParameters(search_parameters)\n",
        "\n",
        "    # Constrói as rotas finais\n",
        "    def create_vehicle_route(vehicle_index):\n",
        "        route = []\n",
        "        index = routing.Start(vehicle_index)\n",
        "        node = manager.IndexToNode(index)\n",
        "        route.append(node)\n",
        "\n",
        "        while not routing.IsEnd(index):\n",
        "            index = solution.Value(routing.NextVar(index))\n",
        "            node = manager.IndexToNode(index)\n",
        "            route.append(node)\n",
        "        return route\n",
        "    \n",
        "    routes = []\n",
        "    for vehicle_index in range(num_vehicles):\n",
        "        routes.append(create_vehicle_route(vehicle_index))\n",
        "    \n",
        "    return routes, solution.ObjectiveValue()"
      ],
      "execution_count": null,
      "outputs": []
    },
    {
      "cell_type": "markdown",
      "metadata": {
        "id": "d8QEd0lID4oc"
      },
      "source": [
        "Após construir a matriz de distâncias, temos os seguintes resultados:"
      ]
    },
    {
      "cell_type": "code",
      "metadata": {
        "id": "GMAN5lqa9DL2"
      },
      "source": [
        "import numpy as np\n",
        "\n",
        "\n",
        "distance_matrix = np.array(\n",
        "    [\n",
        "        [0, 7, 7, 8, 5, 6],\n",
        "        [7, 0, 5, 105, 115, 100],\n",
        "        [7, 5, 0, 105, 110, 110],\n",
        "        [8, 105, 105, 0, 100, 115],\n",
        "        [5, 115, 110, 100, 0, 11],\n",
        "        [6, 100, 110, 115, 11, 0],\n",
        "    ]\n",
        ")\n",
        "\n",
        "\n",
        "routes1, distance1 = solve_mtsp_ortools(distance_matrix, num_vehicles=1)\n",
        "routes2, distance2 = solve_mtsp_ortools(distance_matrix, num_vehicles=2)\n",
        "routes3, distance3 = solve_mtsp_ortools(distance_matrix, num_vehicles=3)\n",
        "routes4, distance4 = solve_mtsp_ortools(distance_matrix, num_vehicles=4)\n",
        "\n",
        "print(f\"mTSP com 1 veículo. Rotas: {routes1}, Distância total: {distance1}\")\n",
        "print(f\"mTSP com 2 veículos. Rotas: {routes2}, Distância total: {distance2}\")\n",
        "print(f\"mTSP com 3 veículos. Rotas: {routes3}, Distância total: {distance3}\")\n",
        "print(f\"mTSP com 4 veículos. Rotas: {routes4}, Distância total: {distance4}\")"
      ],
      "execution_count": null,
      "outputs": []
    },
    {
      "cell_type": "markdown",
      "metadata": {
        "id": "Soq_ny8JEmh4"
      },
      "source": [
        "Observe como a distância total das rotas é reduzida com o acréscimo de caixeiros. Veja também que de 3 em diante não há mais diferença, o que significaria que a distância total poderia até aumentar neste caso."
      ]
    },
    {
      "cell_type": "markdown",
      "metadata": {
        "id": "a3x94liEraD3"
      },
      "source": [
        "# Exercício 2"
      ]
    },
    {
      "cell_type": "markdown",
      "metadata": {
        "id": "azswuqHerbWH"
      },
      "source": [
        "Aqui está um programa que usa a função anterior:"
      ]
    },
    {
      "cell_type": "code",
      "metadata": {
        "id": "PNq1MEW_rgIT"
      },
      "source": [
        "def find_best_number_of_salespeople(distance_matrix):\n",
        "    # Inicializa a melhor rota com um número muito alto\n",
        "    best_routes = []\n",
        "    best_distance = np.inf\n",
        "    best_num_vehicles = 0\n",
        "\n",
        "    n = distance_matrix.shape[0]  # número de nós\n",
        "\n",
        "    # Observe que não faz sentido haver mais caixeiros que nós, então podemos \n",
        "    # iterar para no máximo `n` caixeiros\n",
        "    for num_vehicles in range(1, n):\n",
        "        routes, distance = solve_mtsp_ortools(distance_matrix, num_vehicles)\n",
        "        # Se a distância retornada não for menor que a que temos como melhor, \n",
        "        # interrompa o processo\n",
        "        if distance >= best_distance:\n",
        "            break\n",
        "        \n",
        "        # Atualiza os resultados atuais como melhores\n",
        "        best_routes = routes\n",
        "        best_distance = distance\n",
        "        best_num_vehicles = num_vehicles\n",
        "    \n",
        "    return best_routes, best_distance, best_num_vehicles"
      ],
      "execution_count": null,
      "outputs": []
    },
    {
      "cell_type": "markdown",
      "metadata": {
        "id": "464oJULFtGV-"
      },
      "source": [
        "Vamos testá-lo com o problema anterior:"
      ]
    },
    {
      "cell_type": "code",
      "metadata": {
        "id": "2b13C71QtI0-"
      },
      "source": [
        "distance_matrix = np.array(\n",
        "    [\n",
        "        [0, 7, 7, 8, 5, 6],\n",
        "        [7, 0, 5, 105, 115, 100],\n",
        "        [7, 5, 0, 105, 110, 110],\n",
        "        [8, 105, 105, 0, 100, 115],\n",
        "        [5, 115, 110, 100, 0, 11],\n",
        "        [6, 100, 110, 115, 11, 0],\n",
        "    ]\n",
        ")\n",
        "\n",
        "find_best_number_of_salespeople(distance_matrix)"
      ],
      "execution_count": null,
      "outputs": []
    },
    {
      "cell_type": "markdown",
      "metadata": {
        "id": "zHe-VX4utO38"
      },
      "source": [
        "Observe como obtemos o mesmo resultado do exercício anterior.\n",
        "\n",
        "Agora vamos testar com uma matriz aleatória:"
      ]
    },
    {
      "cell_type": "code",
      "metadata": {
        "id": "giHYjY2-tZjh"
      },
      "source": [
        "n = 100\n",
        "\n",
        "# Inicializa a semente como 1 para que sempre geremos a mesma matriz\n",
        "np.random.seed(1)  \n",
        "distance_matrix = np.random.randint(0, 200, size=(n, n))\n",
        "\n",
        "find_best_number_of_salespeople(distance_matrix)"
      ],
      "execution_count": null,
      "outputs": []
    },
    {
      "cell_type": "markdown",
      "metadata": {
        "id": "ojK5N8AN12KT"
      },
      "source": [
        "Aqui valeu mais pena usar apenas um caixeiro, já que a primeira rota foi `[0, 0]`."
      ]
    },
    {
      "cell_type": "markdown",
      "metadata": {
        "id": "6MCpJcSsSFeG"
      },
      "source": [
        "# Exercício 3"
      ]
    },
    {
      "cell_type": "code",
      "metadata": {
        "id": "v4TupZKLSIIp"
      },
      "source": [
        "from ortools.constraint_solver import pywrapcp\n",
        "\n",
        "\n",
        "def solve_vrp_ortools(\n",
        "    distance_matrix, node_demands, vehicle_capacity, num_vehicles=1\n",
        "):\n",
        "    n = distance_matrix.shape[0]  # número de nós do problema    \n",
        "    depot_node = 0  # número do nó que representa o ponto de origem\n",
        "    manager = pywrapcp.RoutingIndexManager(n, num_vehicles, depot_node)\n",
        "    routing = pywrapcp.RoutingModel(manager)\n",
        "    \n",
        "    def distance_callback(i, j):\n",
        "        # `i` e `j` são índices internos do OR-Tools. Precisamos primeiro \n",
        "        # convertê-los em nós do nosso problema\n",
        "        ni = manager.IndexToNode(i)\n",
        "        nj = manager.IndexToNode(j)\n",
        "        return distance_matrix[ni, nj]\n",
        "\n",
        "    transit_callback_index = routing.RegisterTransitCallback(distance_callback)\n",
        "    routing.SetArcCostEvaluatorOfAllVehicles(transit_callback_index)\n",
        "\n",
        "    # Adiciona a restrição de capacidade\n",
        "    def demand_callback(from_index):\n",
        "        \"\"\"Retorna a demanda de um nó\"\"\"    \n",
        "        from_node = manager.IndexToNode(from_index)\n",
        "        return node_demands[from_node]\n",
        "\n",
        "    demand_callback_index = routing.RegisterUnaryTransitCallback(\n",
        "        demand_callback\n",
        "    )\n",
        "    routing.AddDimensionWithVehicleCapacity(\n",
        "        demand_callback_index,\n",
        "        0,  # null capacity slack\n",
        "        [vehicle_capacity] * num_vehicles,\n",
        "        True,  # start cumul to zero\n",
        "        'Capacity'\n",
        "    )\n",
        "\n",
        "    # Resolve o problema com métodos default\n",
        "    search_parameters = pywrapcp.DefaultRoutingSearchParameters()\n",
        "    solution = routing.SolveWithParameters(search_parameters)\n",
        "\n",
        "    # Constrói as rotas finais\n",
        "    def create_vehicle_route(vehicle_index):\n",
        "        route = []\n",
        "        index = routing.Start(vehicle_index)\n",
        "        node = manager.IndexToNode(index)\n",
        "        route.append(node)\n",
        "\n",
        "        while not routing.IsEnd(index):\n",
        "            index = solution.Value(routing.NextVar(index))\n",
        "            node = manager.IndexToNode(index)\n",
        "            route.append(node)\n",
        "        return route\n",
        "    \n",
        "    routes = []\n",
        "    for vehicle_index in range(num_vehicles):\n",
        "        routes.append(create_vehicle_route(vehicle_index))\n",
        "    \n",
        "    return routes, solution.ObjectiveValue()"
      ],
      "execution_count": null,
      "outputs": []
    },
    {
      "cell_type": "markdown",
      "metadata": {
        "id": "lcvq7VirSHBf"
      },
      "source": [
        "O primeiro passo é determinar os dados do problema, como a matriz de distâncias e as demandas de cada nó.\n",
        "Em seguida, para cada capacidade, experimente resolver o problema para números diferentes de veículos até que obtenhamos uma solução sem erro."
      ]
    },
    {
      "cell_type": "code",
      "metadata": {
        "id": "aJ8y7TUO2exL"
      },
      "source": [
        "distance_matrix = np.array(\n",
        "    [\n",
        "        [0, 7, 7, 8, 5, 6],\n",
        "        [7, 0, 5, 10, 22, 5],\n",
        "        [7, 5, 0, 6, 16, 15],\n",
        "        [8, 10, 6, 0, 6, 20],\n",
        "        [5, 22, 16, 6, 0, 11],\n",
        "        [6, 5, 15, 20, 11, 0],\n",
        "    ]\n",
        ")\n",
        "node_demands = [0, 4, 5, 5, 7, 2]"
      ],
      "execution_count": null,
      "outputs": []
    },
    {
      "cell_type": "markdown",
      "metadata": {
        "id": "ZgWbqElB2tJ8"
      },
      "source": [
        "Por exemplo, com capacidade 7, temos um erro quando usamos menos que 4 veículos:"
      ]
    },
    {
      "cell_type": "code",
      "metadata": {
        "id": "GVV4JM8D2yAH"
      },
      "source": [
        "# Experimente testar com outros números\n",
        "# Capacidade 7\n",
        "vehicle_capacity = 7\n",
        "routes, distance = solve_vrp_ortools(distance_matrix, node_demands, vehicle_capacity, num_vehicles=1)\n",
        "print(f\"Capacidade {vehicle_capacity}; Distância total: {distance}\")"
      ],
      "execution_count": null,
      "outputs": []
    },
    {
      "cell_type": "markdown",
      "metadata": {
        "id": "J30suRTk250R"
      },
      "source": [
        "Repetindo a análise para cada capacidade, temos os seguintes resultados:"
      ]
    },
    {
      "cell_type": "code",
      "metadata": {
        "id": "Hx-3f2I4TpV8"
      },
      "source": [
        "# Capacidade 7\n",
        "vehicle_capacity = 7\n",
        "routes, distance = solve_vrp_ortools(distance_matrix, node_demands, vehicle_capacity, num_vehicles=4)\n",
        "print(f\"Capacidade {vehicle_capacity}; Distância total: {distance}\")\n",
        "\n",
        "# Capacidade 10\n",
        "vehicle_capacity = 10\n",
        "routes, distance = solve_vrp_ortools(distance_matrix, node_demands, vehicle_capacity, num_vehicles=3)\n",
        "print(f\"Capacidade {vehicle_capacity}; Distância total: {distance}\")\n",
        "\n",
        "# Capacidade 20\n",
        "vehicle_capacity = 20\n",
        "routes, distance = solve_vrp_ortools(distance_matrix, node_demands, vehicle_capacity, num_vehicles=2)\n",
        "print(f\"Capacidade {vehicle_capacity}; Distância total: {distance}\")\n",
        "\n",
        "# Capacidade 100\n",
        "vehicle_capacity = 100\n",
        "routes, distance = solve_vrp_ortools(distance_matrix, node_demands, vehicle_capacity, num_vehicles=1)\n",
        "print(f\"Capacidade {vehicle_capacity}; Distância total: {distance}\")"
      ],
      "execution_count": null,
      "outputs": []
    },
    {
      "cell_type": "markdown",
      "metadata": {
        "id": "dkAusQbrV_39"
      },
      "source": [
        "Observe como com o aumento da capacidade obtemos soluções cada vez melhores. No limite quando a capacidade de um veículo é grande o suficiente, nós acabamos resolvendo um TSP. Experimente voltar na aula anterior e comparar a solução com o caso de capacidade de 100."
      ]
    },
    {
      "cell_type": "markdown",
      "metadata": {
        "id": "CLobYnB-Uf44"
      },
      "source": [
        "# Exercício 4"
      ]
    },
    {
      "cell_type": "markdown",
      "metadata": {
        "id": "BJkDVC53UiBr"
      },
      "source": [
        "Aqui está uma função que resolve estes problemas. Observe como não precisamos mais passar `num_vehicles` como variável de entrada."
      ]
    },
    {
      "cell_type": "code",
      "metadata": {
        "id": "8sXP6hPDUrd0"
      },
      "source": [
        "from ortools.constraint_solver import pywrapcp\n",
        "\n",
        "\n",
        "def solve_vrp_ortools2(\n",
        "    distance_matrix, node_demands, vehicle_capacity\n",
        "):\n",
        "    n = distance_matrix.shape[0]  # número de nós do problema    \n",
        "    depot_node = 0  # número do nó que representa o ponto de origem\n",
        "\n",
        "    # Vamos usar `n` como número de veículos, pois haveria na pior das hipóteses\n",
        "    # um veículo entregando cada pacote\n",
        "    num_vehicles = n\n",
        "    manager = pywrapcp.RoutingIndexManager(n, num_vehicles, depot_node)\n",
        "    routing = pywrapcp.RoutingModel(manager)\n",
        "    \n",
        "    def distance_callback(i, j):\n",
        "        # `i` e `j` são índices internos do OR-Tools. Precisamos primeiro \n",
        "        # convertê-los em nós do nosso problema\n",
        "        ni = manager.IndexToNode(i)\n",
        "        nj = manager.IndexToNode(j)\n",
        "        return distance_matrix[ni, nj]\n",
        "\n",
        "    transit_callback_index = routing.RegisterTransitCallback(distance_callback)\n",
        "    routing.SetArcCostEvaluatorOfAllVehicles(transit_callback_index)\n",
        "\n",
        "    # Adiciona a restrição de capacidade\n",
        "    def demand_callback(from_index):\n",
        "        \"\"\"Retorna a demanda de um nó\"\"\"    \n",
        "        from_node = manager.IndexToNode(from_index)\n",
        "        return node_demands[from_node]\n",
        "\n",
        "    demand_callback_index = routing.RegisterUnaryTransitCallback(\n",
        "        demand_callback\n",
        "    )\n",
        "    routing.AddDimensionWithVehicleCapacity(\n",
        "        demand_callback_index,\n",
        "        0,  # null capacity slack\n",
        "        [vehicle_capacity] * num_vehicles,\n",
        "        True,  # start cumul to zero\n",
        "        'Capacity'\n",
        "    )\n",
        "\n",
        "    # Resolve o problema com métodos default\n",
        "    search_parameters = pywrapcp.DefaultRoutingSearchParameters()\n",
        "    solution = routing.SolveWithParameters(search_parameters)\n",
        "\n",
        "    # Caso não haja solução factível, retorne uma lista vazia como rotas e o\n",
        "    # valor -1 como distância total\n",
        "    if not solution:\n",
        "        return [], -1\n",
        "\n",
        "    # Constrói as rotas finais\n",
        "    def create_vehicle_route(vehicle_index):\n",
        "        route = []\n",
        "        index = routing.Start(vehicle_index)\n",
        "        node = manager.IndexToNode(index)\n",
        "        route.append(node)\n",
        "\n",
        "        while not routing.IsEnd(index):\n",
        "            index = solution.Value(routing.NextVar(index))\n",
        "            node = manager.IndexToNode(index)\n",
        "            route.append(node)\n",
        "        return route\n",
        "    \n",
        "    routes = []\n",
        "    for vehicle_index in range(num_vehicles):\n",
        "        # Adicione apenas as rotas com mais que apenas [0, 0], ou seja, apenas \n",
        "        # aquelas com ao menos três pontos\n",
        "        route = create_vehicle_route(vehicle_index)\n",
        "        if len(route) > 2:\n",
        "            routes.append(route)\n",
        "    \n",
        "    return routes, solution.ObjectiveValue()"
      ],
      "execution_count": null,
      "outputs": []
    },
    {
      "cell_type": "markdown",
      "metadata": {
        "id": "d3DFN-EiVZO_"
      },
      "source": [
        "Vamos testar resolvendo o mesmo problema de antes:"
      ]
    },
    {
      "cell_type": "code",
      "metadata": {
        "id": "HrOR0fHGVbgW"
      },
      "source": [
        "import numpy as np\n",
        "\n",
        "\n",
        "distance_matrix = np.array(\n",
        "    [\n",
        "        [0, 7, 7, 8, 5, 6],\n",
        "        [7, 0, 5, 10, 22, 5],\n",
        "        [7, 5, 0, 6, 16, 15],\n",
        "        [8, 10, 6, 0, 6, 20],\n",
        "        [5, 22, 16, 6, 0, 11],\n",
        "        [6, 5, 15, 20, 11, 0],\n",
        "    ]\n",
        ")\n",
        "node_demands = [0, 4, 5, 5, 7, 2]\n",
        "\n",
        "# Capacidade 7\n",
        "vehicle_capacity = 7\n",
        "routes, distance = solve_vrp_ortools2(distance_matrix, node_demands, vehicle_capacity)\n",
        "print(f\"Capacidade {vehicle_capacity}; Distância total: {distance}, Número de veículos: {len(routes)}\")\n",
        "\n",
        "# Capacidade 10\n",
        "vehicle_capacity = 10\n",
        "routes, distance = solve_vrp_ortools2(distance_matrix, node_demands, vehicle_capacity)\n",
        "print(f\"Capacidade {vehicle_capacity}; Distância total: {distance}, Número de veículos: {len(routes)}\")\n",
        "\n",
        "# Capacidade 20\n",
        "vehicle_capacity = 20\n",
        "routes, distance = solve_vrp_ortools2(distance_matrix, node_demands, vehicle_capacity)\n",
        "print(f\"Capacidade {vehicle_capacity}; Distância total: {distance}, Número de veículos: {len(routes)}\")\n",
        "\n",
        "# Capacidade 100\n",
        "vehicle_capacity = 100\n",
        "routes, distance = solve_vrp_ortools2(distance_matrix, node_demands, vehicle_capacity)\n",
        "print(f\"Capacidade {vehicle_capacity}; Distância total: {distance}, Número de veículos: {len(routes)}\")"
      ],
      "execution_count": null,
      "outputs": []
    },
    {
      "cell_type": "markdown",
      "metadata": {
        "id": "OntUkzbqV78a"
      },
      "source": [
        "Observe como obtivemos os mesmos resultados de antes sem o problema de tentativa e erro.\n",
        "\n",
        "Finalmente, para experimentar um caso em que não há solução factível, vamos colocar a capacidade do veículo menor que a maior demanda:"
      ]
    },
    {
      "cell_type": "code",
      "metadata": {
        "id": "gMQWRJUPWJVV"
      },
      "source": [
        "# Capacidade 5 (a maior entrega não caberia em nenhum veículo)\n",
        "vehicle_capacity = 5\n",
        "routes, distance = solve_vrp_ortools2(distance_matrix, node_demands, vehicle_capacity)\n",
        "print(f\"Capacidade {vehicle_capacity}; Distância total: {distance}, Número de veículos: {len(routes)}\")"
      ],
      "execution_count": null,
      "outputs": []
    },
    {
      "cell_type": "markdown",
      "metadata": {
        "id": "RCEqddAtWRoo"
      },
      "source": [
        "Observe como obtemos uma resposta mais amigável em vez do erro anterior."
      ]
    },
    {
      "cell_type": "markdown",
      "metadata": {
        "id": "IDiA1o7g_Qjl"
      },
      "source": [
        "# Exercício 5"
      ]
    },
    {
      "cell_type": "markdown",
      "metadata": {
        "id": "X5_6yp-3_R5z"
      },
      "source": [
        "Aqui está uma função com o formato sugerido no enunciado. Ela consiste em duas subfunções para cada critério avaliado. Analise bem o código."
      ]
    },
    {
      "cell_type": "code",
      "metadata": {
        "id": "C3QgMRjC_j_Y"
      },
      "source": [
        "def evaluate_solution(routes, node_demands, vehicle_capacity):\n",
        "    \"\"\"Avalia se a solução de um solver VRP é factível\"\"\"\n",
        "\n",
        "    # O número de nós do problema é o tamanho da lista de demandas\n",
        "    n = len(node_demands)\n",
        "    is_feasible1 = _has_all_nodes(routes, n)\n",
        "    is_feasible2 = _capacities_are_respected(\n",
        "        routes, node_demands, vehicle_capacity\n",
        "    )\n",
        "\n",
        "    # Para a solução ser factível, as duas condições devem ser verdadeiras\n",
        "    return is_feasible1 and is_feasible2\n",
        "\n",
        "\n",
        "def _has_all_nodes(routes, n):\n",
        "    \"\"\"Verifica se um conjunto de rotas possui todos os elementos\n",
        "    Se um problema tem, por exemplo, 5 nós, eles são numerados de 0 a 4. Logo,\n",
        "    no caso geral, devemos coletar todos os nós de cada rota, agrupá-los sem \n",
        "    repetição, e verificar se todos os nós de 0 a n - 1 estão presentes.\n",
        "    \"\"\"\n",
        "    all_nodes = []\n",
        "    for route in routes:\n",
        "        all_nodes += route  # concatena cada rota separadamente\n",
        "    \n",
        "    # Para evitar repetições, vamos transformar a lista `all_nodes` em um\n",
        "    # conjunto\n",
        "    all_nodes_set = set(all_nodes)\n",
        "\n",
        "    # Devemos verificar se este conjunto é igual ao conjunto {0, 1, ..., n - 1}\n",
        "    expected_nodes_set = set(range(n))\n",
        "\n",
        "    return all_nodes_set == expected_nodes_set\n",
        "\n",
        "\n",
        "def _capacities_are_respected(routes, node_demands, vehicle_capacity):\n",
        "    \"\"\"Verifica se a demanda total de cada rota não viola a capacidade\"\"\"\n",
        "\n",
        "    def compute_route_total_demand(route, node_demands):\n",
        "        \"\"\"Calcula a demanda total de uma rota\"\"\"\n",
        "        total_demand = 0\n",
        "        for node in route:\n",
        "            total_demand += node_demands[node]\n",
        "        return total_demand\n",
        "\n",
        "    # Itera em cada rota. Se alguma violar a restrição de capacidade, retorne \n",
        "    # `False`. Se passarmos por todas as rotas sem interrupção, significa que \n",
        "    # todas respeitaram a restrição, e assim podemos retornar `True`\n",
        "    for route in routes:\n",
        "        if compute_route_total_demand(route, node_demands) > vehicle_capacity:\n",
        "            return False\n",
        "    \n",
        "    return True"
      ],
      "execution_count": null,
      "outputs": []
    },
    {
      "cell_type": "markdown",
      "metadata": {
        "id": "H2dSJdEbCLG5"
      },
      "source": [
        "Vamos testar nosso código com os seguintes problemas"
      ]
    },
    {
      "cell_type": "code",
      "metadata": {
        "id": "sCrClGOhCOvG"
      },
      "source": [
        "import numpy as np\n",
        "\n",
        "\n",
        "vehicle_capacity = 40\n",
        "\n",
        "# n = 10\n",
        "n = 10\n",
        "\n",
        "# Inicializa a semente como 1 para que sempre geremos a mesma matriz\n",
        "np.random.seed(1)  \n",
        "distance_matrix = np.random.randint(1, 101, size=(n, n))  # números de 1 a 100\n",
        "node_demands = np.random.randint(1, 21, size=n)\n",
        "node_demands[0] = 0  # primeiro nó é o ponto de origem\n",
        "\n",
        "routes, distance = solve_vrp_ortools2(distance_matrix, node_demands, vehicle_capacity)\n",
        "is_feasible = evaluate_solution(routes, node_demands, vehicle_capacity)\n",
        "\n",
        "print(f\"Problema com {n} nós, solução factível? {is_feasible}\")\n",
        "\n",
        "# n = 20\n",
        "n = 20\n",
        "\n",
        "# Inicializa a semente como 1 para que sempre geremos a mesma matriz\n",
        "np.random.seed(1)  \n",
        "distance_matrix = np.random.randint(1, 101, size=(n, n))  # números de 1 a 100\n",
        "node_demands = np.random.randint(1, 21, size=n)\n",
        "node_demands[0] = 0  # primeiro nó é o ponto de origem\n",
        "\n",
        "routes, distance = solve_vrp_ortools2(distance_matrix, node_demands, vehicle_capacity)\n",
        "is_feasible = evaluate_solution(routes, node_demands, vehicle_capacity)\n",
        "\n",
        "print(f\"Problema com {n} nós, solução factível? {is_feasible}\")\n",
        "\n",
        "# n = 50\n",
        "n = 50\n",
        "\n",
        "# Inicializa a semente como 1 para que sempre geremos a mesma matriz\n",
        "np.random.seed(1)  \n",
        "distance_matrix = np.random.randint(1, 101, size=(n, n))  # números de 1 a 100\n",
        "node_demands = np.random.randint(1, 21, size=n)\n",
        "node_demands[0] = 0  # primeiro nó é o ponto de origem\n",
        "\n",
        "routes, distance = solve_vrp_ortools2(distance_matrix, node_demands, vehicle_capacity)\n",
        "is_feasible = evaluate_solution(routes, node_demands, vehicle_capacity)\n",
        "\n",
        "print(f\"Problema com {n} nós, solução factível? {is_feasible}\")\n",
        "\n",
        "# n = 100\n",
        "n = 100\n",
        "\n",
        "# Inicializa a semente como 1 para que sempre geremos a mesma matriz\n",
        "np.random.seed(1)  \n",
        "distance_matrix = np.random.randint(1, 101, size=(n, n))  # números de 1 a 100\n",
        "node_demands = np.random.randint(1, 21, size=n)\n",
        "node_demands[0] = 0  # primeiro nó é o ponto de origem\n",
        "\n",
        "routes, distance = solve_vrp_ortools2(distance_matrix, node_demands, vehicle_capacity)\n",
        "is_feasible = evaluate_solution(routes, node_demands, vehicle_capacity)\n",
        "\n",
        "print(f\"Problema com {n} nós, solução factível? {is_feasible}\")"
      ],
      "execution_count": null,
      "outputs": []
    },
    {
      "cell_type": "markdown",
      "metadata": {
        "id": "De0rVqY5E0gY"
      },
      "source": [
        "Logo, está tudo bem com nosso solver. Experimente aumentar ainda mais o número de nós e ver até que ponto ele deixaria de funcionar corretamente."
      ]
    }
  ]
}