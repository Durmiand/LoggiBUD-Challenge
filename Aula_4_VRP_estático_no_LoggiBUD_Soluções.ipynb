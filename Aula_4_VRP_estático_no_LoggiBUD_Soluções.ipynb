{
  "nbformat": 4,
  "nbformat_minor": 0,
  "metadata": {
    "colab": {
      "name": "Aula 4: VRP estático no LoggiBUD - Soluções",
      "provenance": [],
      "collapsed_sections": [],
      "toc_visible": true,
      "include_colab_link": true
    },
    "kernelspec": {
      "display_name": "Python 3",
      "name": "python3"
    },
    "language_info": {
      "name": "python"
    }
  },
  "cells": [
    {
      "cell_type": "markdown",
      "metadata": {
        "id": "view-in-github",
        "colab_type": "text"
      },
      "source": [
        "<a href=\"https://colab.research.google.com/github/Durmiand/LoggiBUD-Challenge/blob/main/Aula_4_VRP_est%C3%A1tico_no_LoggiBUD_Solu%C3%A7%C3%B5es.ipynb\" target=\"_parent\"><img src=\"https://colab.research.google.com/assets/colab-badge.svg\" alt=\"Open In Colab\"/></a>"
      ]
    },
    {
      "cell_type": "markdown",
      "metadata": {
        "id": "ddEV1ANDSjYA"
      },
      "source": [
        "---\n",
        "\n",
        "# Atenção!\n",
        "\n",
        "Lembre-se de clonar este notebook antes de tentar editar as células de código. \n",
        "\n",
        "Para isso, basta seguir os passos:\n",
        "\n",
        "File -> Save a copy in Drive\n",
        "\n",
        "\n",
        "\n",
        "---"
      ]
    },
    {
      "cell_type": "code",
      "metadata": {
        "id": "C-b8BI2p0qtS"
      },
      "source": [
        "!git clone https://github.com/loggi/loggibud \n",
        "%cd /content/loggibud/\n",
        "\n",
        "# Instale as dependências do projeto\n",
        "!pip install poetry\n",
        "!poetry install\n",
        "# Se você estiver executando esse script localmente, não precisa dos dois comandos abaixo\n",
        "!poetry export -f requirements.txt --without-hashes --output requirements.txt \n",
        "!pip install -r requirements.txt\n",
        "\n",
        "# Verifique se tudo funcionou executando os testes\n",
        "!poetry run pytest -s -v tests/\n",
        "\n",
        "# Baixe os dados compilados\n",
        "!wget -nc https://loggibud.s3.amazonaws.com/dataset.zip\n",
        "!unzip -n dataset.zip\n",
        "\n",
        "# Verifique que a pasta `data/` agora não está mais vazia\n",
        "!ls data/"
      ],
      "execution_count": null,
      "outputs": []
    },
    {
      "cell_type": "markdown",
      "metadata": {
        "id": "DYNu0jKi9E2e"
      },
      "source": [
        "Aqui está também o código do nosso solver completo:"
      ]
    },
    {
      "cell_type": "code",
      "metadata": {
        "id": "7VMRvOxp9G_U"
      },
      "source": [
        "from ortools.constraint_solver import pywrapcp\n",
        "\n",
        "from loggibud.v1.distances import calculate_distance_matrix_m, OSRMConfig\n",
        "from loggibud.v1.types import CVRPSolution, CVRPSolutionVehicle, CVRPInstance\n",
        "\n",
        "\n",
        "def solve_loggibud_vrp(problem):\n",
        "    distance_matrix = _compute_distance_matrix(problem)\n",
        "    node_demands = _compute_node_demands(problem)\n",
        "    vehicle_capacity = problem.vehicle_capacity\n",
        "\n",
        "    # Chama o solver de antes\n",
        "    routes, distance = solve_vrp_ortools2(\n",
        "        distance_matrix, node_demands, vehicle_capacity\n",
        "    )\n",
        "\n",
        "    # Cria uma solução com o formato `CVRPSolution`\n",
        "    return _create_cvrp_solution(problem, routes)\n",
        "    \n",
        "def _compute_distance_matrix(problem):\n",
        "    config = OSRMConfig(host=\"http://ec2-34-222-175-250.us-west-2.compute.amazonaws.com\")\n",
        "    \n",
        "    points = [problem.origin]\n",
        "    for delivery in problem.deliveries:\n",
        "        points.append(delivery.point)\n",
        "    \n",
        "    return calculate_distance_matrix_m(points, config)\n",
        "\n",
        "\n",
        "def _compute_node_demands(problem):\n",
        "    \"\"\"Retorna uma lista com as demandas de cada nó\"\"\"\n",
        "    node_demands = [0]  # inicializa com a demanda nula da origem\n",
        "    for delivery in problem.deliveries:\n",
        "        node_demands.append(delivery.size)\n",
        "    \n",
        "    return node_demands\n",
        "\n",
        "def _create_cvrp_solution(problem, routes):\n",
        "    vehicles = []\n",
        "    for route in routes:\n",
        "        vehicle = _create_cvrp_vehicle(problem, route)        \n",
        "        vehicles.append(vehicle)\n",
        "\n",
        "    # Com os veículos, construímos o objeto `CVRPSolution`\n",
        "    return CVRPSolution(\n",
        "        name=problem.name,\n",
        "        vehicles=vehicles\n",
        "    )\n",
        "\n",
        "def _create_cvrp_vehicle(problem, route):\n",
        "    \"\"\"\n",
        "    Constrói um objeto do tipo `CVRPSolutionVehicle` a partir de uma rota\n",
        "    \"\"\"\n",
        "    deliveries = []\n",
        "    for node in route[1:-1]:\n",
        "        deliveries.append(problem.deliveries[node - 1])\n",
        "    \n",
        "    return CVRPSolutionVehicle(origin=problem.origin, deliveries=deliveries)\n",
        "\n",
        "\n",
        "def solve_vrp_ortools2(\n",
        "    distance_matrix, node_demands, vehicle_capacity\n",
        "):\n",
        "    n = distance_matrix.shape[0]  # número de nós do problema    \n",
        "    depot_node = 0  # número do nó que representa o ponto de origem\n",
        "\n",
        "    # Vamos usar `n` como número de veículos, pois haveria na pior das hipóteses\n",
        "    # um veículo entregando cada pacote\n",
        "    num_vehicles = n\n",
        "    manager = pywrapcp.RoutingIndexManager(n, num_vehicles, depot_node)\n",
        "    routing = pywrapcp.RoutingModel(manager)\n",
        "    \n",
        "    def distance_callback(i, j):\n",
        "        # `i` e `j` são índices internos do OR-Tools. Precisamos primeiro \n",
        "        # convertê-los em nós do nosso problema\n",
        "        ni = manager.IndexToNode(i)\n",
        "        nj = manager.IndexToNode(j)\n",
        "        return distance_matrix[ni, nj]\n",
        "\n",
        "    transit_callback_index = routing.RegisterTransitCallback(distance_callback)\n",
        "    routing.SetArcCostEvaluatorOfAllVehicles(transit_callback_index)\n",
        "\n",
        "    # Adiciona a restrição de capacidade\n",
        "    def demand_callback(from_index):\n",
        "        \"\"\"Retorna a demanda de um nó\"\"\"    \n",
        "        from_node = manager.IndexToNode(from_index)\n",
        "        return node_demands[from_node]\n",
        "\n",
        "    demand_callback_index = routing.RegisterUnaryTransitCallback(\n",
        "        demand_callback\n",
        "    )\n",
        "    routing.AddDimensionWithVehicleCapacity(\n",
        "        demand_callback_index,\n",
        "        0,  # null capacity slack\n",
        "        [vehicle_capacity] * num_vehicles,\n",
        "        True,  # start cumul to zero\n",
        "        'Capacity'\n",
        "    )\n",
        "\n",
        "    # Resolve o problema com métodos default\n",
        "    search_parameters = pywrapcp.DefaultRoutingSearchParameters()\n",
        "    solution = routing.SolveWithParameters(search_parameters)\n",
        "\n",
        "    # Caso não haja solução factível, retorne uma lista vazia como rotas e o\n",
        "    # valor -1 como distância total\n",
        "    if not solution:\n",
        "        return [], -1\n",
        "\n",
        "    # Constrói as rotas finais\n",
        "    def create_vehicle_route(vehicle_index):\n",
        "        route = []\n",
        "        index = routing.Start(vehicle_index)\n",
        "        node = manager.IndexToNode(index)\n",
        "        route.append(node)\n",
        "\n",
        "        while not routing.IsEnd(index):\n",
        "            index = solution.Value(routing.NextVar(index))\n",
        "            node = manager.IndexToNode(index)\n",
        "            route.append(node)\n",
        "        return route\n",
        "    \n",
        "    routes = []\n",
        "    for vehicle_index in range(num_vehicles):\n",
        "        # Adicione apenas as rotas com mais que apenas [0, 0], ou seja, apenas \n",
        "        # aquelas com ao menos três pontos\n",
        "        route = create_vehicle_route(vehicle_index)\n",
        "        if len(route) > 2:\n",
        "            routes.append(route)\n",
        "    \n",
        "    return routes, solution.ObjectiveValue()"
      ],
      "execution_count": null,
      "outputs": []
    },
    {
      "cell_type": "markdown",
      "metadata": {
        "id": "f28V3Otr035w"
      },
      "source": [
        "# Exercício 1"
      ]
    },
    {
      "cell_type": "markdown",
      "metadata": {
        "id": "aFyrHQl68VCC"
      },
      "source": [
        "## `dev/df-0/cvrp-0-df-90.json`"
      ]
    },
    {
      "cell_type": "code",
      "metadata": {
        "id": "SgR58icq8lyH"
      },
      "source": [
        "# Comece carregando a instância\n",
        "from loggibud.v1.types import CVRPInstance\n",
        "\n",
        "\n",
        "file_path = \"./data/cvrp-instances-1.0/dev/df-0/cvrp-0-df-90.json\"\n",
        "problem = CVRPInstance.from_file(file_path)\n",
        "problem"
      ],
      "execution_count": null,
      "outputs": []
    },
    {
      "cell_type": "code",
      "metadata": {
        "id": "lcDsJq2H8yjw"
      },
      "source": [
        "print(f\"A capacidade de cada veículo é: {problem.vehicle_capacity}\")\n",
        "print(f\"A localização do ponto de partida é: {problem.origin}\")\n",
        "print(f\"Esta instância possui um total de {len(problem.deliveries)} entregas\")"
      ],
      "execution_count": null,
      "outputs": []
    },
    {
      "cell_type": "code",
      "metadata": {
        "id": "zOWcG5AD_N94"
      },
      "source": [
        "# Resolve o problema (pode levar um tempo)\n",
        "solution = solve_loggibud_vrp(problem)\n",
        "solution"
      ],
      "execution_count": null,
      "outputs": []
    },
    {
      "cell_type": "code",
      "metadata": {
        "id": "ZPCT8bpn_TUd"
      },
      "source": [
        "# Vamos conferir se a solução é factível, e qual a sua distância total\n",
        "from loggibud.v1.distances import OSRMConfig\n",
        "from loggibud.v1.eval.task1 import evaluate_solution\n",
        "\n",
        "\n",
        "# Configuração com o servidor para os alunos\n",
        "config = OSRMConfig(host=\"http://ec2-34-222-175-250.us-west-2.compute.amazonaws.com\")\n",
        "\n",
        "evaluate_solution(problem, solution, config=config)"
      ],
      "execution_count": null,
      "outputs": []
    },
    {
      "cell_type": "code",
      "metadata": {
        "id": "j_Rf-dKz_djW"
      },
      "source": [
        "# Aqui estão as rotas visualizadas em rua\n",
        "from loggibud.v1.plotting.plot_solution import plot_cvrp_solution_routes\n",
        "\n",
        "\n",
        "plot_cvrp_solution_routes(solution, config=config)"
      ],
      "execution_count": null,
      "outputs": []
    },
    {
      "cell_type": "markdown",
      "metadata": {
        "id": "BwdUX_SN_ocm"
      },
      "source": [
        "## `dev/pa-0/cvrp-0-pa-90.json`"
      ]
    },
    {
      "cell_type": "code",
      "metadata": {
        "id": "mbRjUtRQA04i"
      },
      "source": [
        "# Comece carregando a instância\n",
        "from loggibud.v1.types import CVRPInstance\n",
        "\n",
        "\n",
        "file_path = \"./data/cvrp-instances-1.0/dev/pa-0/cvrp-0-pa-90.json\"\n",
        "problem = CVRPInstance.from_file(file_path)\n",
        "problem"
      ],
      "execution_count": null,
      "outputs": []
    },
    {
      "cell_type": "code",
      "metadata": {
        "id": "YbieowwMBAii"
      },
      "source": [
        "print(f\"A capacidade de cada veículo é: {problem.vehicle_capacity}\")\n",
        "print(f\"A localização do ponto de partida é: {problem.origin}\")\n",
        "print(f\"Esta instância possui um total de {len(problem.deliveries)} entregas\")"
      ],
      "execution_count": null,
      "outputs": []
    },
    {
      "cell_type": "code",
      "metadata": {
        "id": "XB10mQkQBGQ7"
      },
      "source": [
        "# Resolve o problema (pode levar um tempo)\n",
        "solution = solve_loggibud_vrp(problem)\n",
        "solution"
      ],
      "execution_count": null,
      "outputs": []
    },
    {
      "cell_type": "code",
      "metadata": {
        "id": "Tc_o3bu5BI-x"
      },
      "source": [
        "# Vamos conferir se a solução é factível, e qual a sua distância total\n",
        "from loggibud.v1.distances import OSRMConfig\n",
        "from loggibud.v1.eval.task1 import evaluate_solution\n",
        "\n",
        "\n",
        "# Configuração com o servidor para os alunos\n",
        "config = OSRMConfig(host=\"http://ec2-34-222-175-250.us-west-2.compute.amazonaws.com\")\n",
        "\n",
        "evaluate_solution(problem, solution, config=config)"
      ],
      "execution_count": null,
      "outputs": []
    },
    {
      "cell_type": "code",
      "metadata": {
        "id": "Cut-hE8yBNky"
      },
      "source": [
        "# Aqui estão as rotas visualizadas em rua\n",
        "from loggibud.v1.plotting.plot_solution import plot_cvrp_solution_routes\n",
        "\n",
        "\n",
        "plot_cvrp_solution_routes(solution, config=config)"
      ],
      "execution_count": null,
      "outputs": []
    },
    {
      "cell_type": "markdown",
      "metadata": {
        "id": "pJX8xLjyBWSJ"
      },
      "source": [
        "## `dev/rj-0/cvrp-0-rj-90.json`"
      ]
    },
    {
      "cell_type": "code",
      "metadata": {
        "id": "p_76l79XBguw"
      },
      "source": [
        "# Comece carregando a instância\n",
        "from loggibud.v1.types import CVRPInstance\n",
        "\n",
        "\n",
        "file_path = \"./data/cvrp-instances-1.0/dev/rj-0/cvrp-0-rj-90.json\"\n",
        "problem = CVRPInstance.from_file(file_path)\n",
        "problem"
      ],
      "execution_count": null,
      "outputs": []
    },
    {
      "cell_type": "code",
      "metadata": {
        "id": "zh1PjJIcBmek"
      },
      "source": [
        "print(f\"A capacidade de cada veículo é: {problem.vehicle_capacity}\")\n",
        "print(f\"A localização do ponto de partida é: {problem.origin}\")\n",
        "print(f\"Esta instância possui um total de {len(problem.deliveries)} entregas\")"
      ],
      "execution_count": null,
      "outputs": []
    },
    {
      "cell_type": "code",
      "metadata": {
        "id": "qKtYc2wQBpLr"
      },
      "source": [
        "# Resolve o problema (pode levar um tempo)\n",
        "solution = solve_loggibud_vrp(problem)\n",
        "solution"
      ],
      "execution_count": null,
      "outputs": []
    },
    {
      "cell_type": "markdown",
      "metadata": {
        "id": "bHZunEhPLN0A"
      },
      "source": [
        "(No momento em que executei, o algoritmo levou mais de dez minutos - na verdade, quase meia hora - para finalizar)"
      ]
    },
    {
      "cell_type": "code",
      "metadata": {
        "id": "Ybl_xuNuBsLF"
      },
      "source": [
        "# Vamos conferir se a solução é factível, e qual a sua distância total\n",
        "from loggibud.v1.distances import OSRMConfig\n",
        "from loggibud.v1.eval.task1 import evaluate_solution\n",
        "\n",
        "\n",
        "# Configuração com o servidor para os alunos\n",
        "config = OSRMConfig(host=\"http://ec2-34-222-175-250.us-west-2.compute.amazonaws.com\")\n",
        "\n",
        "evaluate_solution(problem, solution, config=config)"
      ],
      "execution_count": null,
      "outputs": []
    },
    {
      "cell_type": "code",
      "metadata": {
        "id": "dfZ92ar5BvKp"
      },
      "source": [
        "# Aqui estão as rotas visualizadas em rua\n",
        "from loggibud.v1.plotting.plot_solution import plot_cvrp_solution_routes\n",
        "\n",
        "\n",
        "plot_cvrp_solution_routes(solution, config=config)"
      ],
      "execution_count": null,
      "outputs": []
    },
    {
      "cell_type": "markdown",
      "metadata": {
        "id": "kHRnFjLBB0MH"
      },
      "source": [
        "# Exercício 2"
      ]
    },
    {
      "cell_type": "markdown",
      "metadata": {
        "id": "Z2ECrtkFB3Vp"
      },
      "source": [
        "Aqui está um código simples que resolve de uma vez as mesmas instâncias de antes com o LKH-3, já presente no repositório:"
      ]
    },
    {
      "cell_type": "code",
      "metadata": {
        "id": "0hDCUuIhCDOH"
      },
      "source": [
        "from loggibud.v1.types import CVRPInstance\n",
        "from loggibud.v1.distances import OSRMConfig\n",
        "from loggibud.v1.eval.task1 import evaluate_solution\n",
        "from loggibud.v1.baselines.task1 import lkh_3\n",
        "\n",
        "\n",
        "file_paths = [\n",
        "    \"./data/cvrp-instances-1.0/dev/df-0/cvrp-0-df-90.json\",\n",
        "    \"./data/cvrp-instances-1.0/dev/pa-0/cvrp-0-pa-90.json\",\n",
        "    \"./data/cvrp-instances-1.0/dev/rj-0/cvrp-0-rj-90.json\",\n",
        "]\n",
        "# Configuração com o servidor para os alunos\n",
        "osrm_config = OSRMConfig(host=\"http://ec2-34-222-175-250.us-west-2.compute.amazonaws.com\")\n",
        "\n",
        "lkh_params = lkh_3.LKHParams(osrm_config=osrm_config)\n",
        "\n",
        "for file_path in file_paths:\n",
        "    problem = CVRPInstance.from_file(file_path)\n",
        "\n",
        "    print(f\"Instância: {problem.name}\")\n",
        "    print(f\"A capacidade de cada veículo é: {problem.vehicle_capacity}\")\n",
        "    print(f\"A localização do ponto de partida é: {problem.origin}\")\n",
        "    print(f\"Esta instância possui um total de {len(problem.deliveries)} entregas\")\n",
        "\n",
        "    solution = lkh_3.solve(problem, params=lkh_params)\n",
        "\n",
        "    total_distance = evaluate_solution(problem, solution, config=osrm_config)\n",
        "\n",
        "    print(f\"A solução tem distância total {total_distance} km\\n\\n\")"
      ],
      "execution_count": null,
      "outputs": []
    },
    {
      "cell_type": "markdown",
      "metadata": {
        "id": "FhB3W_bZ65fK"
      },
      "source": [
        "Observe como as soluções do LKH-3 possuem distância total menor. Este algoritmo tende a ser mais eficiente que aqueles utilizados pelo OR-Tools, então pode ser que valha a pena [consultá-lo](http://webhotel4.ruc.dk/~keld/research/LKH-3/) caso tenha interesse na área."
      ]
    }
  ]
}