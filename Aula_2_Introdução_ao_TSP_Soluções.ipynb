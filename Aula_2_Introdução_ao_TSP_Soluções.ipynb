{
  "nbformat": 4,
  "nbformat_minor": 0,
  "metadata": {
    "colab": {
      "name": "Aula 2: Introdução ao TSP - Soluções",
      "provenance": [],
      "collapsed_sections": [],
      "toc_visible": true,
      "include_colab_link": true
    },
    "kernelspec": {
      "name": "python3",
      "display_name": "Python 3"
    },
    "language_info": {
      "name": "python"
    }
  },
  "cells": [
    {
      "cell_type": "markdown",
      "metadata": {
        "id": "view-in-github",
        "colab_type": "text"
      },
      "source": [
        "<a href=\"https://colab.research.google.com/github/Durmiand/LoggiBUD-Challenge/blob/main/Aula_2_Introdu%C3%A7%C3%A3o_ao_TSP_Solu%C3%A7%C3%B5es.ipynb\" target=\"_parent\"><img src=\"https://colab.research.google.com/assets/colab-badge.svg\" alt=\"Open In Colab\"/></a>"
      ]
    },
    {
      "cell_type": "markdown",
      "metadata": {
        "id": "lxUOVtPUPg3Z"
      },
      "source": [
        "---\n",
        "\n",
        "# Atenção!\n",
        "\n",
        "Lembre-se de clonar este notebook antes de tentar editar as células de código. \n",
        "\n",
        "Para isso, basta seguir os passos:\n",
        "\n",
        "File -> Save a copy in Drive\n",
        "\n",
        "\n",
        "\n",
        "---"
      ]
    },
    {
      "cell_type": "markdown",
      "metadata": {
        "id": "clQi5vvGQ3cl"
      },
      "source": [
        "## Exercício 1"
      ]
    },
    {
      "cell_type": "code",
      "metadata": {
        "id": "ymFtrhlxRfOg"
      },
      "source": [
        "from itertools import permutations\n",
        "\n",
        "import numpy as np\n",
        "\n",
        "\n",
        "def solve_tsp_brute_force(distance_matrix):\n",
        "    \"\"\"Resolve o TSP por meio de um algoritmo de força bruta\"\"\"\n",
        "    n = distance_matrix.shape[0]  # número de nós do problema\n",
        "    best_route = None  # inicializa melhor rota como vazio\n",
        "    best_route_distance = np.inf  # distância inicial é um número muito alto\n",
        "\n",
        "    for permutation in permutations(range(1, n)):\n",
        "        route = [0] + list(permutation) + [0]\n",
        "        route_distance = compute_route_distance(distance_matrix, route)\n",
        "\n",
        "        # Se esta permutação possuir uma distância total menor que a atual, \n",
        "        # substitua por ela\n",
        "        if route_distance < best_route_distance:\n",
        "            best_route = route\n",
        "            best_route_distance = route_distance\n",
        "    \n",
        "    return best_route, best_route_distance\n",
        "\n",
        "def compute_route_distance(distance_matrix, route):\n",
        "    \"\"\"Calcula a distância total de uma rota para uma dada matriz de distâncias\"\"\"\n",
        "    route_distance = 0\n",
        "    for i in range(len(route) - 1):\n",
        "        route_distance += distance_matrix[route[i], route[i + 1]]\n",
        "\n",
        "    return route_distance"
      ],
      "execution_count": null,
      "outputs": []
    },
    {
      "cell_type": "markdown",
      "metadata": {
        "id": "BiY3CHTNQ7Sw"
      },
      "source": [
        "O passo mais importante consiste em determinar a matriz de distâncias. Em seguida, basta aplicar nosso solver de força bruta."
      ]
    },
    {
      "cell_type": "code",
      "metadata": {
        "id": "IpnSNDNSRGBe"
      },
      "source": [
        "distance_matrix = np.array(\n",
        "    [\n",
        "        [0, 7, 7, 8, 5, 6],\n",
        "        [7, 0, 5, 10, 22, 5],\n",
        "        [7, 5, 0, 6, 16, 15],\n",
        "        [8, 10, 6, 0, 6, 20],\n",
        "        [5, 22, 16, 6, 0, 11],\n",
        "        [6, 5, 15, 20, 11, 0],\n",
        "    ]\n",
        ")\n",
        "\n",
        "solve_tsp_brute_force(distance_matrix)"
      ],
      "execution_count": null,
      "outputs": []
    },
    {
      "cell_type": "markdown",
      "metadata": {
        "id": "8bF8T5vWUHIe"
      },
      "source": [
        "# Exercício 2\n"
      ]
    },
    {
      "cell_type": "markdown",
      "metadata": {
        "id": "U_DUNLfvUKKo"
      },
      "source": [
        "Usando a dica, podemos primeiro recalcular a matriz de distâncias:"
      ]
    },
    {
      "cell_type": "code",
      "metadata": {
        "id": "wDGuZrtQUaOK"
      },
      "source": [
        "distance_matrix = np.array(\n",
        "    [\n",
        "        [0, 7, 7, 8, 5, 6],\n",
        "        [7, 0, 5, 10, 22, 5],\n",
        "        [7, 5, 0, 6, 16, 15],\n",
        "        [8, 10, 6, 0, 6, 20],\n",
        "        [5, 22, 16, 6, 0, 11],\n",
        "        [6, 5, 15, 20, 11, 0],\n",
        "    ]\n",
        ")\n",
        "\n",
        "n = distance_matrix.shape[0]\n",
        "for i in range(n - 1):\n",
        "    distance_matrix[i, i + 1] = round(0.9 * distance_matrix[i + 1, i])\n",
        "\n",
        "# Para conferir:\n",
        "for i in range(n - 1):\n",
        "    print(f\"Ida: {distance_matrix[i, i + 1]}, Volta: {distance_matrix[i + 1, i]}\")"
      ],
      "execution_count": null,
      "outputs": []
    },
    {
      "cell_type": "code",
      "metadata": {
        "id": "4xKpQJILVR2i"
      },
      "source": [
        "# Com isso, aqui está a solução\n",
        "solve_tsp_brute_force(distance_matrix)"
      ],
      "execution_count": null,
      "outputs": []
    },
    {
      "cell_type": "markdown",
      "metadata": {
        "id": "E03jVwDvVsIR"
      },
      "source": [
        "Observe como na solução do exercício 1 a rota consistia em nós decrescentes ([0, 4, 3, 2, 1, 5, 0]) -- ou seja, o caminho \"voltando\" era mais eficiente, enquanto, neste caso, houve uma troca já que vale mais a pena \"ir\" ([0, 5, 1, 2, 3, 4, 0]). Estas diferenças sutis são importantes, principalmente quando tratamos de rotas em cidades.\n"
      ]
    },
    {
      "cell_type": "markdown",
      "metadata": {
        "id": "yOpUimEXXqQT"
      },
      "source": [
        "# Exercício 3\n",
        "\n",
        "Aqui está um código que calcula este tempo para cada valor de `n`."
      ]
    },
    {
      "cell_type": "code",
      "metadata": {
        "id": "xErYIx6wX1FU"
      },
      "source": [
        "from timeit import default_timer\n",
        "\n",
        "import numpy as np\n",
        "\n",
        "\n",
        "TIME_THRESHOLD_S = 60\n",
        "\n",
        "results = [\n",
        "    {\n",
        "        \"problem_size\": 0,\n",
        "        \"processing_time\": 0,\n",
        "        \"route_distance\": 0,\n",
        "    }\n",
        "]\n",
        "n = 3\n",
        "\n",
        "while results[-1][\"processing_time\"] <= TIME_THRESHOLD_S:\n",
        "    print(f\"Problema com tamanho {n}\")\n",
        "    \n",
        "    # Fixe o gerador de números aleatórios para obter a mesma matriz de \n",
        "    # distâncias em cada execução\n",
        "    np.random.seed(1)\n",
        "    distance_matrix = np.random.randint(0, 21, size=(n, n))\n",
        "    tic = default_timer()\n",
        "    _, route_distance = solve_tsp_brute_force(distance_matrix)\n",
        "    processing_time = default_timer() - tic\n",
        "    \n",
        "    results.append({\n",
        "        \"problem_size\": n,\n",
        "        \"processing_time\": processing_time,\n",
        "        \"route_distance\": route_distance,\n",
        "    })\n",
        "    n += 1\n",
        "\n",
        "results"
      ],
      "execution_count": null,
      "outputs": []
    },
    {
      "cell_type": "markdown",
      "metadata": {
        "id": "mqykNAT5ciGp"
      },
      "source": [
        "Neste caso, problemas com 12 ou mais nós -- ou seja, um veículo saindo do ponto de partida e fazendo 11 entregas -- já deixam de ser factíveis para o nosso limite de um minuto. Uma vez que é comum um veículo entregar 50 ou mais pacotes, este algoritmo não poderia ser empregado em um sistema de larga escala.\n",
        "\n",
        "Observe também como o tempo dá saltos enormes quando o tamanho do problema aumenta em apenas uma unidade.\n",
        "\n"
      ]
    },
    {
      "cell_type": "markdown",
      "metadata": {
        "id": "v-vydydJmhfC"
      },
      "source": [
        "# Exercício 4\n"
      ]
    },
    {
      "cell_type": "code",
      "metadata": {
        "id": "ZXD7vKwcmucT"
      },
      "source": [
        "!pip install ortools==9.0.9048"
      ],
      "execution_count": null,
      "outputs": []
    },
    {
      "cell_type": "code",
      "metadata": {
        "id": "_UaHP8bimmpb"
      },
      "source": [
        "import numpy as np\n",
        "from ortools.constraint_solver import pywrapcp\n",
        "\n",
        "\n",
        "def solve_tsp_ortools(distance_matrix):\n",
        "    n = distance_matrix.shape[0]  # número de nós do problema\n",
        "    num_vehicles = 1  # número de veículos (no nosso caso, apenas um)\n",
        "    depot_node = 0  # número do nó que representa o ponto de origem\n",
        "    manager = pywrapcp.RoutingIndexManager(n, num_vehicles, depot_node)\n",
        "    routing = pywrapcp.RoutingModel(manager)\n",
        "    \n",
        "    def distance_callback(i, j):\n",
        "        # `i` e `j` são índices internos do OR-Tools. Precisamos primeiro \n",
        "        # convertê-los em nós do nosso problema\n",
        "        ni = manager.IndexToNode(i)\n",
        "        nj = manager.IndexToNode(j)\n",
        "        return distance_matrix[ni, nj]\n",
        "\n",
        "    transit_callback_index = routing.RegisterTransitCallback(distance_callback)\n",
        "    routing.SetArcCostEvaluatorOfAllVehicles(transit_callback_index)\n",
        "\n",
        "    # Resolve o problema com métodos default\n",
        "    search_parameters = pywrapcp.DefaultRoutingSearchParameters()\n",
        "    solution = routing.SolveWithParameters(search_parameters)\n",
        "\n",
        "    # Constroi a rota final\n",
        "    route = []\n",
        "    index = routing.Start(0)\n",
        "    node = manager.IndexToNode(index)\n",
        "    route.append(node)\n",
        "\n",
        "    while not routing.IsEnd(index):\n",
        "        index = solution.Value(routing.NextVar(index))\n",
        "        node = manager.IndexToNode(index)\n",
        "        route.append(node)\n",
        "    \n",
        "    return route, solution.ObjectiveValue()\n",
        "\n",
        "# Exercício 1\n",
        "distance_matrix1 = np.array(\n",
        "    [\n",
        "        [0, 7, 7, 8, 5, 6],\n",
        "        [7, 0, 5, 10, 22, 5],\n",
        "        [7, 5, 0, 6, 16, 15],\n",
        "        [8, 10, 6, 0, 6, 20],\n",
        "        [5, 22, 16, 6, 0, 11],\n",
        "        [6, 5, 15, 20, 11, 0],\n",
        "    ]\n",
        ")\n",
        "route1, route_distance1 = solve_tsp_ortools(distance_matrix1)\n",
        "\n",
        "print(f\"Exercício 1 resolvido pelo OR-Tools: rota {route1}, distância: {route_distance1}\")\n",
        "\n",
        "# Exercício 2\n",
        "distance_matrix2 = distance_matrix1.copy()\n",
        "n = distance_matrix2.shape[0]\n",
        "for i in range(n - 1):\n",
        "    distance_matrix2[i, i + 1] = round(0.9 * distance_matrix2[i + 1, i])\n",
        "\n",
        "route2, route_distance2 = solve_tsp_ortools(distance_matrix2)\n",
        "\n",
        "print(f\"Exercício 2 resolvido pelo OR-Tools: rota {route2}, distância: {route_distance2}\")"
      ],
      "execution_count": null,
      "outputs": []
    },
    {
      "cell_type": "markdown",
      "metadata": {
        "id": "pVnkoAm08vea"
      },
      "source": [
        "Como se vê, nestes problemas pequenos o OR-Tools encontrou a solução ótima quando comparado ao nosso solver de força bruta."
      ]
    },
    {
      "cell_type": "markdown",
      "metadata": {
        "id": "t5H7GfxG-E7m"
      },
      "source": [
        "# Exercício 5\n",
        "\n",
        "Aqui está um código similar ao anterior, mas usando o OR-Tools até `n = 12`, que foi o limite encontrado no Exercício 3."
      ]
    },
    {
      "cell_type": "code",
      "metadata": {
        "id": "iSz7IlI3-Nxr"
      },
      "source": [
        "from timeit import default_timer\n",
        "\n",
        "import numpy as np\n",
        "\n",
        "\n",
        "results = [\n",
        "    {\n",
        "        \"problem_size\": 0,\n",
        "        \"processing_time\": 0,\n",
        "        \"route_distance\": 0,\n",
        "    }\n",
        "]\n",
        "\n",
        "for n in range(3, 13):\n",
        "    print(f\"Problema com tamanho {n}\")\n",
        "\n",
        "    # Fixe o gerador de números aleatórios para obter a mesma matriz de \n",
        "    # distâncias em cada execução\n",
        "    np.random.seed(1)\n",
        "    distance_matrix = np.random.randint(0, 21, size=(n, n))\n",
        "    tic = default_timer()\n",
        "    _, route_distance = solve_tsp_ortools(distance_matrix)\n",
        "    processing_time = default_timer() - tic\n",
        "    \n",
        "    results.append({\n",
        "        \"problem_size\": n,\n",
        "        \"processing_time\": processing_time,\n",
        "        \"route_distance\": route_distance,\n",
        "    })\n",
        "\n",
        "results"
      ],
      "execution_count": null,
      "outputs": []
    },
    {
      "cell_type": "markdown",
      "metadata": {
        "id": "vHrDvDIY_jKv"
      },
      "source": [
        "Observe como os tempos de execução são mais ou menos constantes apesar do aumento de `n`, diferentemente do solver de força bruta que cresce muito mais rápido.\n",
        "\n",
        "Em termos de qualidade, como resolvemos o mesmo problema, podemos ver que a partir de `n = 6` a heurística do OR-Tools deixa de retornar a melhor solução. Lembre que isso é aceitável, mas é possível melhorar seu desempenho trocando o algoritmo usado. Consulte [a documentação](https://developers.google.com/optimization/routing/tsp) e experimente resolver novamente este exercício.\n",
        "\n",
        "Curiosamente, para problemas menores (até `n = 7` neste nosso teste), o algoritmo de força bruta é mais rápido ou comparável. Isto provavelmente se dá pelo fato de o OR-Tools precisar chamar um outro algoritmo em C internamente, enquanto o primeiro não tem esta interface."
      ]
    }
  ]
}