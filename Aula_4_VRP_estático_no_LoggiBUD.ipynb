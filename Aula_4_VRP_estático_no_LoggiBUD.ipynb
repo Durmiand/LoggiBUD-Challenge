{
  "nbformat": 4,
  "nbformat_minor": 0,
  "metadata": {
    "colab": {
      "name": "Aula 4: VRP estático no LoggiBUD",
      "provenance": [],
      "collapsed_sections": [],
      "toc_visible": true,
      "include_colab_link": true
    },
    "kernelspec": {
      "name": "python3",
      "display_name": "Python 3"
    },
    "language_info": {
      "name": "python"
    }
  },
  "cells": [
    {
      "cell_type": "markdown",
      "metadata": {
        "id": "view-in-github",
        "colab_type": "text"
      },
      "source": [
        "<a href=\"https://colab.research.google.com/github/Durmiand/LoggiBUD-Challenge/blob/main/Aula_4_VRP_est%C3%A1tico_no_LoggiBUD.ipynb\" target=\"_parent\"><img src=\"https://colab.research.google.com/assets/colab-badge.svg\" alt=\"Open In Colab\"/></a>"
      ]
    },
    {
      "cell_type": "markdown",
      "metadata": {
        "id": "h5iuA5n0Sfxn"
      },
      "source": [
        "---\n",
        "\n",
        "# Atenção!\n",
        "\n",
        "Lembre-se de clonar este notebook antes de tentar editar as células de código. \n",
        "\n",
        "Para isso, basta seguir os passos:\n",
        "\n",
        "File -> Save a copy in Drive\n",
        "\n",
        "\n",
        "\n",
        "---"
      ]
    },
    {
      "cell_type": "markdown",
      "metadata": {
        "id": "V6MwvTzHzxf3"
      },
      "source": [
        "# Epílogo"
      ]
    },
    {
      "cell_type": "markdown",
      "metadata": {
        "id": "Dl9-s9bxzfoQ"
      },
      "source": [
        "Com as duas últimas aulas, obtivemos uma familiaridade com os problemas do Caixeiro Viajante (TSP) e do Roteamento de Veículos (VRP), que são peças fundamentais em todo este curso. Contudo, ficamos restritos apenas a problemas ou muito pequenos ou artificiais (e.g., com distâncias geradas aleatoriamente), que não representam muito bem a realidade.\n",
        "\n",
        "Felizmente, este é um dos propósitos do nosso repositório [LoggiBUD](https://github.com/loggi/loggibud). Nesta aula adaptaremos o nosso solver de VRP anterior para lidar com os problemas mais realistas que temos disponíveis."
      ]
    },
    {
      "cell_type": "markdown",
      "metadata": {
        "id": "14wlkV9kyZb7"
      },
      "source": [
        "# VRP no LoggiBUD"
      ]
    },
    {
      "cell_type": "markdown",
      "metadata": {
        "id": "hvkJTouUEYxO"
      },
      "source": [
        "## Preliminares"
      ]
    },
    {
      "cell_type": "markdown",
      "metadata": {
        "id": "sqPLI4H0CLBS"
      },
      "source": [
        "Vamos começar clonando o repositório e instalando suas dependências:"
      ]
    },
    {
      "cell_type": "code",
      "metadata": {
        "id": "Vrfbw5LQz3OW"
      },
      "source": [
        "!git clone https://github.com/loggi/loggibud \n",
        "%cd /content/loggibud/\n",
        "\n",
        "# Instale as dependências do projeto\n",
        "!pip install poetry\n",
        "!poetry install\n",
        "# Se você estiver executando esse script localmente, não precisa dos dois comandos abaixo\n",
        "!poetry export -f requirements.txt --without-hashes --output requirements.txt \n",
        "!pip install -r requirements.txt\n",
        "\n",
        "# Verifique se tudo funcionou executando os testes\n",
        "!poetry run pytest -s -v tests/\n",
        "\n",
        "# Baixe os dados compilados\n",
        "!wget -nc https://loggibud.s3.amazonaws.com/dataset.zip\n",
        "!unzip -n dataset.zip\n",
        "\n",
        "# Verifique que a pasta `data/` agora não está mais vazia\n",
        "!ls data/"
      ],
      "execution_count": null,
      "outputs": []
    },
    {
      "cell_type": "markdown",
      "metadata": {
        "id": "LuMdCQ73Eohn"
      },
      "source": [
        "## Analisando uma instância"
      ]
    },
    {
      "cell_type": "markdown",
      "metadata": {
        "id": "sKZPqquOE4t5"
      },
      "source": [
        "Nas duas aulas anteriores, adotamos métodos bem rudimentares e simples para tratar os dados. Por exemplo, cada nó era representado por números de `0` a `n`; as demandas eram dadas por uma lista separada `node_demands`; e a matriz de distâncias já era fornecida.\n",
        "\n",
        "Em circunstâncias mais práticas pode ser que exista muito mais informações sobre os dados de entrada. Assim, a abordagem anterior de usar uma variável separada para cada informação pode deixar o problema cada vez mais confuso.\n",
        "\n",
        "No LoggiBUD, nós usamos estruturas bem definidas para os dados conforme descritas no arquivo `loggibud/loggibud/v1/types.py`. Para carregar um dos problemas que temos disponíveis, usamos a `CVRPInstance`.\n",
        "\n",
        "Vamos exemplificar com um conjunto de dados do Distrito Federal:"
      ]
    },
    {
      "cell_type": "code",
      "metadata": {
        "id": "Fp1Z11OrEr2w"
      },
      "source": [
        "from loggibud.v1.types import CVRPInstance\n",
        "\n",
        "file_path = \"./data/cvrp-instances-1.0/train/df-0/cvrp-0-df-0.json\"\n",
        "problem = CVRPInstance.from_file(file_path)\n",
        "problem"
      ],
      "execution_count": null,
      "outputs": []
    },
    {
      "cell_type": "markdown",
      "metadata": {
        "id": "FiQPL7EHXDd-"
      },
      "source": [
        "A variável `problem` possui várias propriedades com informações relevantes ao problema. Aqui estão algumas delas:"
      ]
    },
    {
      "cell_type": "code",
      "metadata": {
        "id": "tDaW_gTiXJHa"
      },
      "source": [
        "print(f\"A capacidade de cada veículo é: {problem.vehicle_capacity}\")\n",
        "print(f\"A localização do ponto de partida é: {problem.origin}\")\n",
        "print(f\"Esta instância possui um total de {len(problem.deliveries)} entregas\")"
      ],
      "execution_count": null,
      "outputs": []
    },
    {
      "cell_type": "markdown",
      "metadata": {
        "id": "PdjAWtbyXnV2"
      },
      "source": [
        "Observe que a origem aqui é um outro conjunto de dados do tipo `Point`, que contém suas as coordenadas (latitude e longitude).\n",
        "\n",
        "Neste problema há um total de 1037 entregas. Vamos examinar como elas são fornecidas:"
      ]
    },
    {
      "cell_type": "code",
      "metadata": {
        "id": "sUalwToXX40R"
      },
      "source": [
        "# Vamos analisar a primeira delas. O restante segue o mesmo formato\n",
        "delivery = problem.deliveries[0]\n",
        "delivery"
      ],
      "execution_count": null,
      "outputs": []
    },
    {
      "cell_type": "markdown",
      "metadata": {
        "id": "fYtL1X8PYDhP"
      },
      "source": [
        "Assim, cada entrega é do tipo `Delivery`, e elas possuem além das coordenadas como no caso da origem, um identificador e uma demanda representada por `size`."
      ]
    },
    {
      "cell_type": "code",
      "metadata": {
        "id": "uL-G0VE2YeW4"
      },
      "source": [
        "# Use este espaço para analisar outras propriedades ou outras entregas deste problema"
      ],
      "execution_count": null,
      "outputs": []
    },
    {
      "cell_type": "markdown",
      "metadata": {
        "id": "c3o4YTLTYkxw"
      },
      "source": [
        "Finalmente, podemos visualizar todas as entregas em um mapa para termos uma melhor visão do tipo de problema que estamos lidando:"
      ]
    },
    {
      "cell_type": "code",
      "metadata": {
        "id": "n55FDv6pYsOl"
      },
      "source": [
        "from loggibud.v1.plotting.plot_instance import plot_cvrp_instance\n",
        "\n",
        "\n",
        "plot_cvrp_instance(problem)\n",
        "# Experimente mover e dar zoom no mapa\n",
        "# Se estiver executando este código localmente num shell, complemente com os\n",
        "# seguintes passos\n",
        "# plot_cvrp_instance(problem).save_to(\"map.html\")\n",
        "# Abra o arquivo `map.html` num navegador para ter a mesma experiência daqui"
      ],
      "execution_count": null,
      "outputs": []
    },
    {
      "cell_type": "markdown",
      "metadata": {
        "id": "KB763ZdrY77R"
      },
      "source": [
        "## Calculando a matriz de distâncias do problema"
      ]
    },
    {
      "cell_type": "markdown",
      "metadata": {
        "id": "6y7zALxKjdzy"
      },
      "source": [
        "Até o momento possuímos diversas informações para resolver um problema real com os algoritmos desenvolvidos na última aula. Resta apenas determinar as distâncias entre cada nó.\n",
        "\n",
        "Nas aulas anteriores estas distâncias eram fornecidas. Aqui, precisamos cálculá-las usando as coordenadas de cada nó."
      ]
    },
    {
      "cell_type": "markdown",
      "metadata": {
        "id": "R2hmMGureF2-"
      },
      "source": [
        "### Distâncias em linha reta"
      ]
    },
    {
      "cell_type": "markdown",
      "metadata": {
        "id": "w_luUEdgY-L9"
      },
      "source": [
        "Você provavelmente está familiarizado com a [distância Euclidiana](https://en.wikipedia.org/wiki/Euclidean_distance), que dá a a distância em linha reta entre dois pontos no plano. Como nossos pontos não possuem coordenadas num plano, mas sim na Terra, existe uma versão equivalente chamada [Grande Círculo](https://en.wikipedia.org/wiki/Great_circle) que dá a distância em linha reta entre dois pontos numa esfera.\n",
        "\n",
        "No nosso repositório já existe uma função própria para isso no módulo `loggibud/loggibud/v1/distances.py` chamada `calculate_distance_matrix_great_circle_m`. Para usá-la, precisamos de uma lista de elementos do tipo `Point`.\n",
        "\n",
        "No caso, temos a origem `problem.origin` que já é do tipo `Point`, e cada entrega no campo `problem.deliveries` possui dentre suas propriedades um `point`. Logo, basta concatená-las:"
      ]
    },
    {
      "cell_type": "code",
      "metadata": {
        "id": "9pyULGrOdgZS"
      },
      "source": [
        "points = [problem.origin]\n",
        "for delivery in problem.deliveries:\n",
        "    points.append(delivery.point)\n",
        "\n",
        "# O resultado será uma longa lista de pontos\n",
        "points"
      ],
      "execution_count": null,
      "outputs": []
    },
    {
      "cell_type": "markdown",
      "metadata": {
        "id": "-GL5g1FVdv0H"
      },
      "source": [
        "Com isso, a matriz de distâncias pode ser calculada facilmente:"
      ]
    },
    {
      "cell_type": "code",
      "metadata": {
        "id": "fHTeNG2CdzHj"
      },
      "source": [
        "from loggibud.v1.distances import calculate_distance_matrix_great_circle_m\n",
        "\n",
        "\n",
        "distance_matrix = calculate_distance_matrix_great_circle_m(points)\n",
        "distance_matrix\n",
        "# Verifique o tamanho dela com `distance_matrix.shape`"
      ],
      "execution_count": null,
      "outputs": []
    },
    {
      "cell_type": "markdown",
      "metadata": {
        "id": "9y1AZsqheIsX"
      },
      "source": [
        "### Distâncias de rua"
      ]
    },
    {
      "cell_type": "markdown",
      "metadata": {
        "id": "kr_6OOvteLp0"
      },
      "source": [
        "Enquanto a Grande Círculo pode ser útil em algumas regiões, ela essencialmente assume que nossas entregas são feitas em linha reta (de drones ou helicópteros, por exemplo). Isso acaba por ignorar a geografia da cidade, como a existência de ruas de mão única, bloqueios, pontes etc.\n",
        "\n",
        "Felizmente, podemos usar um serviço gratuito chamado [Open Source Routing Machine](http://project-osrm.org/) (OSRM) que retorna a distância de rua entre dois pontos. A documentação do repositório ensina como criar um servidor local, mas durante o curso existe um servidor disponível para os alunos.\n",
        "\n",
        "Como você deve prever, no mesmo módulo `loggibud/loggibud/v1/distances.py` existe uma função `calculate_distance_matrix_m` que calcula a matriz de distâncias usando este servidor. Fora a lista com os pontos como antes, precisamos de uma variável de configurações com o endereço do servidor disponível."
      ]
    },
    {
      "cell_type": "code",
      "metadata": {
        "id": "B1MZ2rTQjLX_"
      },
      "source": [
        "from loggibud.v1.distances import calculate_distance_matrix_m, OSRMConfig\n",
        "\n",
        "\n",
        "# Configuração com o servidor para os alunos\n",
        "osrm_config = OSRMConfig(host=\"http://ec2-34-222-175-250.us-west-2.compute.amazonaws.com\")\n",
        "\n",
        "# Pode levar alguns segundos\n",
        "distance_matrix = calculate_distance_matrix_m(points, config=osrm_config)\n",
        "distance_matrix\n"
      ],
      "execution_count": null,
      "outputs": []
    },
    {
      "cell_type": "markdown",
      "metadata": {
        "id": "027XwGkxjqiM"
      },
      "source": [
        "## Resolvendo um VRP com uma instância real"
      ]
    },
    {
      "cell_type": "markdown",
      "metadata": {
        "id": "uQdy0tOmjy2r"
      },
      "source": [
        "Agora temos todos os ingredientes necessários para resolver um problema de roteamento real. Da aula anterior, temos uma função que recebe uma matriz de distâncias, uma lista com as demandas de cada nó, e a capacidade do veículo.\n",
        "\n",
        "Aqui está esta função tirada do Exercício 4 da aula anterior por conveniência:"
      ]
    },
    {
      "cell_type": "code",
      "metadata": {
        "id": "y3UauOeXkd22"
      },
      "source": [
        "from ortools.constraint_solver import pywrapcp\n",
        "\n",
        "\n",
        "def solve_vrp_ortools2(\n",
        "    distance_matrix, node_demands, vehicle_capacity\n",
        "):\n",
        "    n = distance_matrix.shape[0]  # número de nós do problema    \n",
        "    depot_node = 0  # número do nó que representa o ponto de origem\n",
        "\n",
        "    # Vamos usar `n` como número de veículos, pois haveria na pior das hipóteses\n",
        "    # um veículo entregando cada pacote\n",
        "    num_vehicles = n\n",
        "    manager = pywrapcp.RoutingIndexManager(n, num_vehicles, depot_node)\n",
        "    routing = pywrapcp.RoutingModel(manager)\n",
        "    \n",
        "    def distance_callback(i, j):\n",
        "        # `i` e `j` são índices internos do OR-Tools. Precisamos primeiro \n",
        "        # convertê-los em nós do nosso problema\n",
        "        ni = manager.IndexToNode(i)\n",
        "        nj = manager.IndexToNode(j)\n",
        "        return distance_matrix[ni, nj]\n",
        "\n",
        "    transit_callback_index = routing.RegisterTransitCallback(distance_callback)\n",
        "    routing.SetArcCostEvaluatorOfAllVehicles(transit_callback_index)\n",
        "\n",
        "    # Adiciona a restrição de capacidade\n",
        "    def demand_callback(from_index):\n",
        "        \"\"\"Retorna a demanda de um nó\"\"\"    \n",
        "        from_node = manager.IndexToNode(from_index)\n",
        "        return node_demands[from_node]\n",
        "\n",
        "    demand_callback_index = routing.RegisterUnaryTransitCallback(\n",
        "        demand_callback\n",
        "    )\n",
        "    routing.AddDimensionWithVehicleCapacity(\n",
        "        demand_callback_index,\n",
        "        0,  # null capacity slack\n",
        "        [vehicle_capacity] * num_vehicles,\n",
        "        True,  # start cumul to zero\n",
        "        'Capacity'\n",
        "    )\n",
        "\n",
        "    # Resolve o problema com métodos default\n",
        "    search_parameters = pywrapcp.DefaultRoutingSearchParameters()\n",
        "    solution = routing.SolveWithParameters(search_parameters)\n",
        "\n",
        "    # Caso não haja solução factível, retorne uma lista vazia como rotas e o\n",
        "    # valor -1 como distância total\n",
        "    if not solution:\n",
        "        return [], -1\n",
        "\n",
        "    # Constrói as rotas finais\n",
        "    def create_vehicle_route(vehicle_index):\n",
        "        route = []\n",
        "        index = routing.Start(vehicle_index)\n",
        "        node = manager.IndexToNode(index)\n",
        "        route.append(node)\n",
        "\n",
        "        while not routing.IsEnd(index):\n",
        "            index = solution.Value(routing.NextVar(index))\n",
        "            node = manager.IndexToNode(index)\n",
        "            route.append(node)\n",
        "        return route\n",
        "    \n",
        "    routes = []\n",
        "    for vehicle_index in range(num_vehicles):\n",
        "        # Adicione apenas as rotas com mais que apenas [0, 0], ou seja, apenas \n",
        "        # aquelas com ao menos três pontos\n",
        "        route = create_vehicle_route(vehicle_index)\n",
        "        if len(route) > 2:\n",
        "            routes.append(route)\n",
        "    \n",
        "    return routes, solution.ObjectiveValue()"
      ],
      "execution_count": null,
      "outputs": []
    },
    {
      "cell_type": "markdown",
      "metadata": {
        "id": "vfI9lxPSkmh-"
      },
      "source": [
        "Dado um problema do LoggiBUD, podemos usar esta função imediatamente criando uma subfunção agindo como interface. No caso, precisaríamos calcular a matriz de distâncias e uma lista com as demandas de cada nó.\n",
        "\n",
        "Analise com atenção a função abaixo:"
      ]
    },
    {
      "cell_type": "code",
      "metadata": {
        "id": "lQ-1bbPwlPI0"
      },
      "source": [
        "from loggibud.v1.distances import calculate_distance_matrix_m, OSRMConfig\n",
        "\n",
        "\n",
        "def solve_loggibud_vrp(problem):\n",
        "    distance_matrix = _compute_distance_matrix(problem)\n",
        "    node_demands = _compute_node_demands(problem)\n",
        "    vehicle_capacity = problem.vehicle_capacity\n",
        "\n",
        "    # Chama o solver de antes\n",
        "    return solve_vrp_ortools2(distance_matrix, node_demands, vehicle_capacity)\n",
        "    \n",
        "def _compute_distance_matrix(problem):\n",
        "    osrm_config= OSRMConfig(host=\"http://ec2-34-222-175-250.us-west-2.compute.amazonaws.com\")\n",
        "    \n",
        "    points = [problem.origin]\n",
        "    for delivery in problem.deliveries:\n",
        "        points.append(delivery.point)\n",
        "    \n",
        "    return calculate_distance_matrix_m(points, config=osrm_config)\n",
        "\n",
        "\n",
        "def _compute_node_demands(problem):\n",
        "    \"\"\"Retorna uma lista com as demandas de cada nó\"\"\"\n",
        "    node_demands = [0]  # inicializa com a demanda nula da origem\n",
        "    for delivery in problem.deliveries:\n",
        "        node_demands.append(delivery.size)\n",
        "    \n",
        "    return node_demands\n",
        "\n",
        "# Vamos experimentar com o problema atual (pode levar um tempo mais longo que \n",
        "# o de costume já que a instância é maior)\n",
        "routes, distance = solve_loggibud_vrp(problem)\n",
        "routes, distance"
      ],
      "execution_count": null,
      "outputs": []
    },
    {
      "cell_type": "markdown",
      "metadata": {
        "id": "7ZptbDnyoA67"
      },
      "source": [
        "Assumindo que você tenha completado todos os exercícios da aula passada, no Exercício 5 foi desenvolvida uma função para verificar se a solução é factível. Vamos testá-la aqui também:"
      ]
    },
    {
      "cell_type": "code",
      "metadata": {
        "id": "m373MGn0oURK"
      },
      "source": [
        "def evaluate_solution(routes, node_demands, vehicle_capacity):\n",
        "    \"\"\"Avalia se a solução de um solver VRP é factível\"\"\"\n",
        "\n",
        "    # O número de nós do problema é o tamanho da lista de demandas\n",
        "    n = len(node_demands)\n",
        "    is_feasible1 = _has_all_nodes(routes, n)\n",
        "    is_feasible2 = _capacities_are_respected(\n",
        "        routes, node_demands, vehicle_capacity\n",
        "    )\n",
        "\n",
        "    # Para a solução ser factível, as duas condições devem ser verdadeiras\n",
        "    return is_feasible1 & is_feasible2\n",
        "\n",
        "\n",
        "def _has_all_nodes(routes, n):\n",
        "    \"\"\"Verifica se um conjunto de rotas possui todos os elementos\n",
        "    Se um problema tem, por exemplo, 5 nós, eles são numerados de 0 a 4. Logo,\n",
        "    no caso geral, devemos coletar todos os nós de cada rota, agrupá-los sem \n",
        "    repetição, e verificar se todos os nós de 0 a n - 1 estão presentes.\n",
        "    \"\"\"\n",
        "    all_nodes = []\n",
        "    for route in routes:\n",
        "        all_nodes += route  # concatena cada rota separadamente\n",
        "    \n",
        "    # Para evitar repetições, vamos transformar a lista `all_nodes` em um\n",
        "    # conjunto\n",
        "    all_nodes_set = set(all_nodes)\n",
        "\n",
        "    # Devemos verificar se este conjunto é igual ao conjunto {0, 1, ..., n - 1}\n",
        "    expected_nodes_set = set(range(n))\n",
        "\n",
        "    return all_nodes_set == expected_nodes_set\n",
        "\n",
        "\n",
        "def _capacities_are_respected(routes, node_demands, vehicle_capacity):\n",
        "    \"\"\"Verifica se a demanda total de cada rota não viola a capacidade\"\"\"\n",
        "\n",
        "    def compute_route_total_demand(route, node_demands):\n",
        "        \"\"\"Calcula a demanda total de uma rota\"\"\"\n",
        "        total_demand = 0\n",
        "        for node in route:\n",
        "            total_demand += node_demands[node]\n",
        "        return total_demand\n",
        "\n",
        "    # Itera em cada rota. Se alguma violar a restrição de capacidade, retorne \n",
        "    # `False`. Se passarmos por todas as rotas sem interrupção, significa que \n",
        "    # todas respeitaram a restrição, e assim podemos retornar `True`\n",
        "    for route in routes:\n",
        "        if compute_route_total_demand(route, node_demands) > vehicle_capacity:\n",
        "            return False\n",
        "    \n",
        "    return True\n",
        "\n",
        "node_demands = _compute_node_demands(problem)\n",
        "evaluate_solution(routes, node_demands, problem.vehicle_capacity)"
      ],
      "execution_count": null,
      "outputs": []
    },
    {
      "cell_type": "markdown",
      "metadata": {
        "id": "ampi4YIFoj0t"
      },
      "source": [
        "Na minha execução, obtive um `True`, indicando que a solução respeita as restrições de capacidade."
      ]
    },
    {
      "cell_type": "code",
      "metadata": {
        "id": "XuhUeCNvwBtH"
      },
      "source": [
        "# Use este espaço para experimentar com outras instâncias\n",
        "# Lembre que basta trocar a variável\n",
        "# file_path = \"./data/cvrp-instances-1.0/train/df-0/cvrp-0-df-0.json\"\n",
        "# para usar outro arquivo .json e repetir os passos acima"
      ],
      "execution_count": null,
      "outputs": []
    },
    {
      "cell_type": "markdown",
      "metadata": {
        "id": "MBQEVpgkwH7C"
      },
      "source": [
        "### Aperfeiçoando o retorno\n",
        "\n",
        "Da mesma forma que temos uma variável do tipo `CVRPInstance` que organiza todos os dados de entrada do problema, temos também uma `CVRPSolution` que organiza a resposta. Atualmente, retornamos uma lista de listas `routes` com os índices de cada nó. Cada rota tem o formato\n",
        "\n",
        "```python\n",
        "[0, nós entregues, 0]\n",
        "```\n",
        "\n",
        "Um objeto `CVRPSolution` possui os seguintes campos:\n",
        "\n",
        "```python\n",
        "class CVRPSolution(JSONDataclassMixin):\n",
        "    name: str\n",
        "    vehicles: List[CVRPSolutionVehicle]\n",
        "```\n",
        "\n",
        "O `name` é apenas o nome da instância, que pode ser obtido com `problem.name`. O segundo, `vehicles`, é o equivalente de nossas `routes`, e consiste em uma lista de objetos do tipo `CVRPSolutionVehicle`.\n",
        "\n",
        "Cada `CVRPSolutionVehicle`, por sua vez, tem os campos:\n",
        "\n",
        "```python\n",
        "class CVRPSolutionVehicle:\n",
        "    origin: Point\n",
        "    deliveries: List[Delivery]\n",
        "```\n",
        "\n",
        "em que `origin` é o ponto de partida do problema, obtido de `problem.origin`.\n",
        "`deliveries`, por sua vez, tem o mesmo tipo de `deliveries` da variável de entrada.\n",
        "\n",
        "Pode ter sido muita informação de uma só vez, então vamos a um exemplo. Suponhamos que nosso algoritmo retornou as seguintes rotas:\n",
        "\n",
        "```python\n",
        "routes = [[0, 1, 2, 0], [0, 3, 4, 5]]\n",
        "```\n",
        "\n",
        "Para converter a primeira rota em um `CVRPSolutionVehicle`, podemos fazer algo como:"
      ]
    },
    {
      "cell_type": "code",
      "metadata": {
        "id": "pEywoeD43t58"
      },
      "source": [
        "route1 = [0, 1, 2, 0]\n",
        "# as entregas serão problem.deliveries[1] e problem.deliveries[2], ou\n",
        "deliveries = []\n",
        "for node in route1[1:-1]:\n",
        "    deliveries.append(problem.deliveries[node - 1])\n",
        "\n",
        "deliveries"
      ],
      "execution_count": null,
      "outputs": []
    },
    {
      "cell_type": "markdown",
      "metadata": {
        "id": "CKMAd6pv4Nnh"
      },
      "source": [
        "Observe que `route1[1:-1]` ignora o primeiro e o último elementos, que são sempre 0 no nosso caso. Além disso, no nosso código inicial nós juntamos as entregas com a origem, então as entregas começam do índice 1. Por isso precisamos do `node - 1`.\n",
        "\n",
        "Assim, podemos fazer uma função que retorna uma solução no formato `CVRPSolution` a partir de um conjunto de `routes`:\n"
      ]
    },
    {
      "cell_type": "code",
      "metadata": {
        "id": "RwXn_gj74bds"
      },
      "source": [
        "from loggibud.v1.types import CVRPSolution, CVRPSolutionVehicle\n",
        "\n",
        "\n",
        "def _create_cvrp_solution(problem, routes):\n",
        "    vehicles = []\n",
        "    for route in routes:\n",
        "        vehicle = _create_cvrp_vehicle(problem, route)        \n",
        "        vehicles.append(vehicle)\n",
        "\n",
        "    # Com os veículos, construímos o objeto `CVRPSolution`\n",
        "    return CVRPSolution(\n",
        "        name=problem.name,\n",
        "        vehicles=vehicles\n",
        "    )\n",
        "\n",
        "def _create_cvrp_vehicle(problem, route):\n",
        "    \"\"\"\n",
        "    Constrói um objeto do tipo `CVRPSolutionVehicle` a partir de uma rota\n",
        "    \"\"\"\n",
        "    deliveries = []\n",
        "    for node in route[1:-1]:\n",
        "        deliveries.append(problem.deliveries[node - 1])\n",
        "    \n",
        "    return CVRPSolutionVehicle(origin=problem.origin, deliveries=deliveries)\n",
        "\n",
        "# Experimente com a nossa solução\n",
        "_create_cvrp_solution(problem, routes)"
      ],
      "execution_count": null,
      "outputs": []
    },
    {
      "cell_type": "markdown",
      "metadata": {
        "id": "wxfBEpoo5k2p"
      },
      "source": [
        "Observe um detalhe importante: as entregas em cada `CVRPVehicle` estão na ordem em que serão entregues. O algoritmo que usamos internamente acaba executando um TSP para determinar cada rota, então não precisamos nos precupar com isso. "
      ]
    },
    {
      "cell_type": "markdown",
      "metadata": {
        "id": "sBtXFnAl6EGQ"
      },
      "source": [
        "Podemos, então, aperfeiçoar nosso solver anterior para retornar um `CVRPSolution` em vez de uma lista de rotas como antes:\n"
      ]
    },
    {
      "cell_type": "code",
      "metadata": {
        "id": "a-0QyLHP6L-2"
      },
      "source": [
        "from loggibud.v1.distances import calculate_distance_matrix_m, OSRMConfig\n",
        "from loggibud.v1.types import CVRPSolution, CVRPSolutionVehicle, CVRPInstance\n",
        "\n",
        "\n",
        "def solve_loggibud_vrp(problem):\n",
        "    distance_matrix = _compute_distance_matrix(problem)\n",
        "    node_demands = _compute_node_demands(problem)\n",
        "    vehicle_capacity = problem.vehicle_capacity\n",
        "\n",
        "    # Chama o solver de antes\n",
        "    routes, distance = solve_vrp_ortools2(\n",
        "        distance_matrix, node_demands, vehicle_capacity\n",
        "    )\n",
        "\n",
        "    # Cria uma solução com o formato `CVRPSolution`\n",
        "    return _create_cvrp_solution(problem, routes)\n",
        "    \n",
        "def _compute_distance_matrix(problem):\n",
        "    osrm_config= OSRMConfig(host=\"http://ec2-34-222-175-250.us-west-2.compute.amazonaws.com\")\n",
        "    \n",
        "    points = [problem.origin]\n",
        "    for delivery in problem.deliveries:\n",
        "        points.append(delivery.point)\n",
        "    \n",
        "    return calculate_distance_matrix_m(points, config=osrm_config)\n",
        "\n",
        "\n",
        "def _compute_node_demands(problem):\n",
        "    \"\"\"Retorna uma lista com as demandas de cada nó\"\"\"\n",
        "    node_demands = [0]  # inicializa com a demanda nula da origem\n",
        "    for delivery in problem.deliveries:\n",
        "        node_demands.append(delivery.size)\n",
        "    \n",
        "    return node_demands\n",
        "\n",
        "def _create_cvrp_solution(problem, routes):\n",
        "    vehicles = []\n",
        "    for route in routes:\n",
        "        vehicle = _create_cvrp_vehicle(problem, route)        \n",
        "        vehicles.append(vehicle)\n",
        "\n",
        "    # Com os veículos, construímos o objeto `CVRPSolution`\n",
        "    return CVRPSolution(\n",
        "        name=problem.name,\n",
        "        vehicles=vehicles\n",
        "    )\n",
        "\n",
        "def _create_cvrp_vehicle(problem, route):\n",
        "    \"\"\"\n",
        "    Constrói um objeto do tipo `CVRPSolutionVehicle` a partir de uma rota\n",
        "    \"\"\"\n",
        "    deliveries = []\n",
        "    for node in route[1:-1]:\n",
        "        deliveries.append(problem.deliveries[node - 1])\n",
        "    \n",
        "    return CVRPSolutionVehicle(origin=problem.origin, deliveries=deliveries)\n",
        "\n",
        "# Vamos experimentar novamente com o problema atual\n",
        "solution = solve_loggibud_vrp(problem)\n",
        "solution"
      ],
      "execution_count": null,
      "outputs": []
    },
    {
      "cell_type": "markdown",
      "metadata": {
        "id": "PcuNXjO2V701"
      },
      "source": [
        "Estude bem todas estas funções. Se você acompanhou bem os códigos das aulas anteriores, verá que apesar da complexidade estamos construindo funcionalidades de forma gradativa.\n",
        "\n",
        "Experimente repetir os passos para outras instâncias, e não tenha receio de adicionar novos blocos de código verificando cada variável intermediária."
      ]
    },
    {
      "cell_type": "markdown",
      "metadata": {
        "id": "KLhd3tAM7YiD"
      },
      "source": [
        "### Avaliando a solução\n",
        "\n",
        "Temos agora um tipo de dados mais robusto. Isto é ótimo, mas como avaliaremos se a solução é factível ou não? A princípio você poderia adaptar a função `evaluate_solution` de antes, mas neste caso já existe outra `evaluate_solution` preparada no módulo `loggibud/v1/eval/task1.py`.\n",
        "\n",
        "Ela recebe o problema e a solução, verifica as restrições operacionais (todos os nós estão contidos nas rotas e as capacidades não são violadas) e acusa um erro caso não sejam satisfeitas. Se tudo correr bem, ela retorna a distância total da rota em km:"
      ]
    },
    {
      "cell_type": "code",
      "metadata": {
        "id": "-844Ryxb8TAt"
      },
      "source": [
        "from loggibud.v1.distances import OSRMConfig\n",
        "from loggibud.v1.eval.task1 import evaluate_solution\n",
        "\n",
        "\n",
        "# Configuração com o servidor para os alunos\n",
        "osrm_config= OSRMConfig(host=\"http://ec2-34-222-175-250.us-west-2.compute.amazonaws.com\")\n",
        "\n",
        "evaluate_solution(problem, solution, config=osrm_config)"
      ],
      "execution_count": null,
      "outputs": []
    },
    {
      "cell_type": "markdown",
      "metadata": {
        "id": "B4j6bq89w_rB"
      },
      "source": [
        "Além disso, podemos visualizar as rotas finais assim como os pontos iniciais:"
      ]
    },
    {
      "cell_type": "code",
      "metadata": {
        "id": "70Ab-8-zxYjZ"
      },
      "source": [
        "from loggibud.v1.plotting.plot_solution import plot_cvrp_solution\n",
        "\n",
        "\n",
        "plot_cvrp_solution(solution)"
      ],
      "execution_count": null,
      "outputs": []
    },
    {
      "cell_type": "markdown",
      "metadata": {
        "id": "Iv_nu6CuxqdV"
      },
      "source": [
        "A função anterior plota cada rota como uma sequência de linhas entre uma entrega e outra. Caso prefira, existe outra função para visualizar as rotas em ruas:"
      ]
    },
    {
      "cell_type": "code",
      "metadata": {
        "id": "8uraBIiNx7Xz"
      },
      "source": [
        "from loggibud.v1.plotting.plot_solution import plot_cvrp_solution_routes\n",
        "\n",
        "\n",
        "# Observe como ela precisa do servidor do OSRM em funcionamento\n",
        "plot_cvrp_solution_routes(solution, config=osrm_config)"
      ],
      "execution_count": null,
      "outputs": []
    },
    {
      "cell_type": "markdown",
      "metadata": {
        "id": "LYsKWOUeyfa7"
      },
      "source": [
        "# Resumo"
      ]
    },
    {
      "cell_type": "markdown",
      "metadata": {
        "id": "YMp78B0RyghO"
      },
      "source": [
        "Nesta aula aplicamos o conhecimento desenvolvido nas duas aulas anteriores a um conjunto de dados mais realista do LoggiBUD. Tratamos de uma instância aqui apenas; existem centenas outros problemas para você experimentar.\n",
        "\n",
        "O VRP tratado aqui é bastante estudado na literatura, mas ainda não é suficiente para representar os problemas que enfrentamos diariamente em empresas de entregas como a Loggi. Nas próximas aulas veremos como deixá-lo ainda mais realista para nossos propósitos.\n"
      ]
    },
    {
      "cell_type": "markdown",
      "metadata": {
        "id": "1rCAxZB00a2I"
      },
      "source": [
        "# Exercícios"
      ]
    },
    {
      "cell_type": "markdown",
      "metadata": {
        "id": "LKbyC1ph0cas"
      },
      "source": [
        "## Exercício 1"
      ]
    },
    {
      "cell_type": "markdown",
      "metadata": {
        "id": "Yq5eylcs0eAQ"
      },
      "source": [
        "**Resolva o VRP usando as seguintes instâncias:**\n",
        "\n",
        "- `dev/df-0/cvrp-0-df-90.json`\n",
        "- `dev/pa-0/cvrp-0-pa-90.json`\n",
        "- `dev/rj-0/cvrp-0-rj-90.json`\n",
        "\n",
        "Calcule a distância total das soluções e plote as rotas. \n",
        "O solver foi capaz de resolver todos os problemas?\n",
        "\n",
        "Sugestão: Interrompa manualmente a execução caso o solver esteja levando muito tempo, como mais de dez minutos."
      ]
    },
    {
      "cell_type": "markdown",
      "metadata": {
        "id": "moyaOixkDNO6"
      },
      "source": [
        "## Exercício 2"
      ]
    },
    {
      "cell_type": "markdown",
      "metadata": {
        "id": "md-9byS_DRS-"
      },
      "source": [
        "**Use o solver LKH-3 implementado no repositório para resolver as mesmas instâncias do Exercício 1. Compare as distâncias em cada caso.**\n",
        "\n",
        "Dica: O solver pode ser encontrado em \n",
        "\n",
        "```python\n",
        "from loggibud.v1.baselines.task1 import lkh_3\n",
        "```\n",
        "\n",
        "e executado simplesmente com\n",
        "\n",
        "```python\n",
        "solution = lkh_3.solve(problem, params)\n",
        "```\n",
        "\n",
        "em que `params` é um conjunto de parâmetros do solver. Veja novamente a aula 1 se tiver alguma dúvida."
      ]
    },
    {
      "cell_type": "markdown",
      "metadata": {
        "id": "Zl7C4ORID8kl"
      },
      "source": [
        "## Exercício suplementar"
      ]
    },
    {
      "cell_type": "markdown",
      "metadata": {
        "id": "zNZLrBodD9sr"
      },
      "source": [
        "Experimente pesquisar outros solvers de VRP e, se possível, implemente-os com a mesma interface do solver desta aula. Compare suas soluções nas mesmas instâncias do exercício anterior."
      ]
    },
    {
      "cell_type": "markdown",
      "metadata": {
        "id": "8tS8CRANmmk0"
      },
      "source": [
        "## Tarefa de casa"
      ]
    },
    {
      "cell_type": "markdown",
      "metadata": {
        "id": "D8mXyE7nmo1C"
      },
      "source": [
        "**Adaptação de código**\n",
        "\n",
        "Fora a capacidade de entender como uma nova biblioteca ou repositório funciona, a habilidade de adaptar seu código para novas demandas é muito importante para um programador.\n",
        "\n",
        "Como visto nesta aula, a solução do VRP retornada pelo nosso solver tem o formato:\n",
        "\n",
        "```python\n",
        "class CVRPSolution(JSONDataclassMixin):\n",
        "    name: str\n",
        "    vehicles: List[CVRPSolutionVehicle]\n",
        "```\n",
        "\n",
        "e, dada uma variável `solution` com esta estrutura, podemos fazer algumas operações, como traçar suas rotas e calcular a distância total com a função `evaluate_solution`.\n",
        "\n",
        "Suponha que, para nossos propósitos, seja interessante uma variável que armazene, fora `name` e `vehicles`, a distância total (em quilômetros) das rotas e o número de veículos usados.\n",
        "\n",
        "Nesta tarefa você irá adaptar a classe `CVRPSolution` para incluir estes outros parâmetros de interesse. Para isso, você deverá criar uma nova classe, e.g., `CVRPSolution2` (o nome não é relevante, fique à vontade para usar o que quiser), como exemplificado nos blocos de código a seguir.\n",
        "\n",
        "Resolva a instância `dev/pa-0/cvrp-0-pa-90.json` com o solver desenvolvido aqui, e retorne uma solução como um objeto no novo formato. Ao final, siga o mesmo processo da Etapa 1 para salvar o resultado em um arquivo `solution_loggibud.json`."
      ]
    },
    {
      "cell_type": "code",
      "metadata": {
        "id": "SciaqILhvs5j"
      },
      "source": [
        "# Use esta célula para resolver a instância desejada e retornar uma variável `solution`"
      ],
      "execution_count": null,
      "outputs": []
    },
    {
      "cell_type": "code",
      "metadata": {
        "id": "WkQChYcUwXCk"
      },
      "source": [
        "# Use esta para calcular a distância total e o número de veículos necessários\n",
        "# total_distance_km = ... (observe que a função `evaluate_solution` já retorna a distância em km)\n",
        "# num_vehicles = ... (dica: busque pelo número de elementos em `solution.vehicles`)"
      ],
      "execution_count": null,
      "outputs": []
    },
    {
      "cell_type": "code",
      "metadata": {
        "id": "nqy2xMjrvx4v"
      },
      "source": [
        "from dataclasses import dataclass\n",
        "\n",
        "from loggibud.v1.types import CVRPSolution\n",
        "\n",
        "\n",
        "@dataclass\n",
        "class CVRPSolution2(CVRPSolution):\n",
        "    total_distance_km: float\n",
        "    num_vehicles: int"
      ],
      "execution_count": null,
      "outputs": []
    },
    {
      "cell_type": "code",
      "metadata": {
        "id": "m8MvNLTmwUpX"
      },
      "source": [
        "# Complete os campos a seguir para construir uma nova variável com o novo formato\n",
        "solution2 = CVRPSolution2(\n",
        "    name=,\n",
        "    vehicles=,\n",
        "    total_distance_km=,\n",
        "    num_vehicles=,\n",
        ")\n",
        "\n",
        "# Salve a instância como na etapa 1 em um arquivo `solution_loggibud.json`"
      ],
      "execution_count": null,
      "outputs": []
    }
  ]
}